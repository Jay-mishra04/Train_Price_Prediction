{
 "cells": [
  {
   "cell_type": "markdown",
   "id": "1APZlijqy3hj",
   "metadata": {
    "id": "1APZlijqy3hj"
   },
   "source": [
    "# **Train Price Prediction System**\n",
    "This notebook focuses on building a machine learning model for predicting train ticket prices based on various features of train journeys. The dataset used contains information about train routes, dates, types, and classes of trains, along with the corresponding ticket prices.\n",
    "\n",
    "**Dataset Overview:**\n",
    "\n",
    "The dataset includes the following columns:\n",
    "\n",
    "- insert_date: The timestamp when the data was recorded.\n",
    "- origin: The starting location of the train.\n",
    "- destination: The destination location of the train.\n",
    "- start_date: The date and time when the train journey begins.\n",
    "- end_date: The date and time when the train journey ends.\n",
    "- train_type: The type of train service (e.g., MD-AVE, ALVIA).\n",
    "- price: The ticket price for the specific journey.\n",
    "- train_class: The class of service (e.g., Turista, Turista con enlace).\n",
    "- fare: The fare type (e.g., Flexible, Promo +).\n",
    "\n",
    "**Objective:**\n",
    "\n",
    "The goal of this project is to predict the train ticket price using features such as the origin, destination, train type, train class, and journey dates. By doing so, we aim to provide valuable insights into ticket pricing patterns and help optimize fare strategies for travelers and train service providers.\n",
    "\n",
    "**Approach:**\n",
    "\n",
    "We will clean and preprocess the data, explore it to understand key patterns and trends, and then build a machine learning model to predict ticket prices. This model will be evaluated using appropriate metrics to ensure its effectiveness in making accurate predictions."
   ]
  },
  {
   "cell_type": "code",
   "execution_count": 59,
   "id": "68222326",
   "metadata": {
    "id": "68222326"
   },
   "outputs": [],
   "source": [
    "import pandas as pd\n",
    "import numpy as np\n",
    "import matplotlib.pyplot as plt\n",
    "import seaborn as sns\n",
    "import datetime\n",
    "\n",
    "from sklearn.model_selection import train_test_split\n",
    "\n",
    "\n",
    "from sklearn.preprocessing import MinMaxScaler, OneHotEncoder\n",
    "from sklearn.compose import ColumnTransformer\n",
    "from sklearn.ensemble import RandomForestRegressor\n",
    "from sklearn.metrics import mean_squared_error, r2_score\n",
    "from sklearn.pipeline import Pipeline\n",
    "import joblib\n",
    "from flask import Flask, request, jsonify"
   ]
  },
  {
   "cell_type": "code",
   "execution_count": null,
   "id": "_sO1yNu5xMzl",
   "metadata": {
    "colab": {
     "base_uri": "https://localhost:8080/"
    },
    "id": "_sO1yNu5xMzl",
    "outputId": "535ace9a-1661-4233-e14e-9844458d12b0"
   },
   "outputs": [
    {
     "name": "stdout",
     "output_type": "stream",
     "text": [
      "Mounted at /content/drive\n"
     ]
    }
   ],
   "source": [
    "# from google.colab import drive\n",
    "# drive.mount('/content/drive')"
   ]
  },
  {
   "cell_type": "code",
   "execution_count": null,
   "id": "47b23911",
   "metadata": {},
   "outputs": [],
   "source": [
    "# df = pd.read_csv(\"/content/drive/MyDrive/projects/Train_Price_Prediction/Train.csv\")"
   ]
  },
  {
   "cell_type": "code",
   "execution_count": 3,
   "id": "146d68d6",
   "metadata": {
    "id": "146d68d6"
   },
   "outputs": [],
   "source": [
    "df = pd.read_csv(\"Train.csv\")"
   ]
  },
  {
   "cell_type": "code",
   "execution_count": 4,
   "id": "65469693",
   "metadata": {
    "colab": {
     "base_uri": "https://localhost:8080/",
     "height": 206
    },
    "id": "65469693",
    "outputId": "92a7fa64-0456-43d7-d0d7-c90c00745f6c"
   },
   "outputs": [
    {
     "data": {
      "text/html": [
       "<div>\n",
       "<style scoped>\n",
       "    .dataframe tbody tr th:only-of-type {\n",
       "        vertical-align: middle;\n",
       "    }\n",
       "\n",
       "    .dataframe tbody tr th {\n",
       "        vertical-align: top;\n",
       "    }\n",
       "\n",
       "    .dataframe thead th {\n",
       "        text-align: right;\n",
       "    }\n",
       "</style>\n",
       "<table border=\"1\" class=\"dataframe\">\n",
       "  <thead>\n",
       "    <tr style=\"text-align: right;\">\n",
       "      <th></th>\n",
       "      <th>Unnamed: 0</th>\n",
       "      <th>insert_date</th>\n",
       "      <th>origin</th>\n",
       "      <th>destination</th>\n",
       "      <th>start_date</th>\n",
       "      <th>end_date</th>\n",
       "      <th>train_type</th>\n",
       "      <th>price</th>\n",
       "      <th>train_class</th>\n",
       "      <th>fare</th>\n",
       "    </tr>\n",
       "  </thead>\n",
       "  <tbody>\n",
       "    <tr>\n",
       "      <th>0</th>\n",
       "      <td>702</td>\n",
       "      <td>2019-04-19 05:37:35</td>\n",
       "      <td>PONFERRADA</td>\n",
       "      <td>MADRID</td>\n",
       "      <td>2019-06-02 15:00:00</td>\n",
       "      <td>2019-06-02 19:42:00</td>\n",
       "      <td>MD-AVE</td>\n",
       "      <td>59.50</td>\n",
       "      <td>Turista con enlace</td>\n",
       "      <td>Flexible</td>\n",
       "    </tr>\n",
       "    <tr>\n",
       "      <th>1</th>\n",
       "      <td>703</td>\n",
       "      <td>2019-04-19 05:37:35</td>\n",
       "      <td>PONFERRADA</td>\n",
       "      <td>MADRID</td>\n",
       "      <td>2019-06-02 17:15:00</td>\n",
       "      <td>2019-06-02 23:03:00</td>\n",
       "      <td>MD-AVE</td>\n",
       "      <td>34.65</td>\n",
       "      <td>Turista con enlace</td>\n",
       "      <td>Promo +</td>\n",
       "    </tr>\n",
       "    <tr>\n",
       "      <th>2</th>\n",
       "      <td>704</td>\n",
       "      <td>2019-04-19 05:37:35</td>\n",
       "      <td>PONFERRADA</td>\n",
       "      <td>MADRID</td>\n",
       "      <td>2019-06-02 17:15:00</td>\n",
       "      <td>2019-06-02 23:10:00</td>\n",
       "      <td>MD-LD</td>\n",
       "      <td>39.95</td>\n",
       "      <td>Turista con enlace</td>\n",
       "      <td>Promo +</td>\n",
       "    </tr>\n",
       "    <tr>\n",
       "      <th>3</th>\n",
       "      <td>705</td>\n",
       "      <td>2019-04-19 05:37:35</td>\n",
       "      <td>PONFERRADA</td>\n",
       "      <td>MADRID</td>\n",
       "      <td>2019-06-02 17:15:00</td>\n",
       "      <td>2019-06-02 22:14:00</td>\n",
       "      <td>MD-AVE</td>\n",
       "      <td>40.60</td>\n",
       "      <td>Turista con enlace</td>\n",
       "      <td>Promo +</td>\n",
       "    </tr>\n",
       "    <tr>\n",
       "      <th>4</th>\n",
       "      <td>706</td>\n",
       "      <td>2019-04-19 05:37:35</td>\n",
       "      <td>PONFERRADA</td>\n",
       "      <td>MADRID</td>\n",
       "      <td>2019-06-02 18:55:00</td>\n",
       "      <td>2019-06-02 23:03:00</td>\n",
       "      <td>ALVIA</td>\n",
       "      <td>27.90</td>\n",
       "      <td>Turista</td>\n",
       "      <td>Promo</td>\n",
       "    </tr>\n",
       "  </tbody>\n",
       "</table>\n",
       "</div>"
      ],
      "text/plain": [
       "   Unnamed: 0          insert_date      origin destination  \\\n",
       "0         702  2019-04-19 05:37:35  PONFERRADA      MADRID   \n",
       "1         703  2019-04-19 05:37:35  PONFERRADA      MADRID   \n",
       "2         704  2019-04-19 05:37:35  PONFERRADA      MADRID   \n",
       "3         705  2019-04-19 05:37:35  PONFERRADA      MADRID   \n",
       "4         706  2019-04-19 05:37:35  PONFERRADA      MADRID   \n",
       "\n",
       "            start_date             end_date train_type  price  \\\n",
       "0  2019-06-02 15:00:00  2019-06-02 19:42:00     MD-AVE  59.50   \n",
       "1  2019-06-02 17:15:00  2019-06-02 23:03:00     MD-AVE  34.65   \n",
       "2  2019-06-02 17:15:00  2019-06-02 23:10:00      MD-LD  39.95   \n",
       "3  2019-06-02 17:15:00  2019-06-02 22:14:00     MD-AVE  40.60   \n",
       "4  2019-06-02 18:55:00  2019-06-02 23:03:00      ALVIA  27.90   \n",
       "\n",
       "          train_class      fare  \n",
       "0  Turista con enlace  Flexible  \n",
       "1  Turista con enlace   Promo +  \n",
       "2  Turista con enlace   Promo +  \n",
       "3  Turista con enlace   Promo +  \n",
       "4             Turista     Promo  "
      ]
     },
     "execution_count": 4,
     "metadata": {},
     "output_type": "execute_result"
    }
   ],
   "source": [
    "df.head()"
   ]
  },
  {
   "cell_type": "markdown",
   "id": "mk8EV3qL1MaF",
   "metadata": {
    "id": "mk8EV3qL1MaF"
   },
   "source": [
    "## **Data Cleaning**"
   ]
  },
  {
   "cell_type": "code",
   "execution_count": 5,
   "id": "6fc3ed39",
   "metadata": {
    "colab": {
     "base_uri": "https://localhost:8080/"
    },
    "id": "6fc3ed39",
    "outputId": "a7f2a43a-15e1-4def-f090-5b3d8b50a91f"
   },
   "outputs": [
    {
     "name": "stdout",
     "output_type": "stream",
     "text": [
      "<class 'pandas.core.frame.DataFrame'>\n",
      "RangeIndex: 215909 entries, 0 to 215908\n",
      "Data columns (total 10 columns):\n",
      " #   Column       Non-Null Count   Dtype  \n",
      "---  ------       --------------   -----  \n",
      " 0   Unnamed: 0   215909 non-null  int64  \n",
      " 1   insert_date  215909 non-null  object \n",
      " 2   origin       215909 non-null  object \n",
      " 3   destination  215909 non-null  object \n",
      " 4   start_date   215909 non-null  object \n",
      " 5   end_date     215909 non-null  object \n",
      " 6   train_type   215909 non-null  object \n",
      " 7   price        202321 non-null  float64\n",
      " 8   train_class  215266 non-null  object \n",
      " 9   fare         215266 non-null  object \n",
      "dtypes: float64(1), int64(1), object(8)\n",
      "memory usage: 16.5+ MB\n"
     ]
    }
   ],
   "source": [
    "df.info()"
   ]
  },
  {
   "cell_type": "code",
   "execution_count": 6,
   "id": "ed4ebe8a",
   "metadata": {
    "colab": {
     "base_uri": "https://localhost:8080/"
    },
    "id": "ed4ebe8a",
    "outputId": "8a49d822-fbab-4cbf-c8ed-9dd4208bdf39"
   },
   "outputs": [
    {
     "data": {
      "text/plain": [
       "(215909, 10)"
      ]
     },
     "execution_count": 6,
     "metadata": {},
     "output_type": "execute_result"
    }
   ],
   "source": [
    "df.shape"
   ]
  },
  {
   "cell_type": "code",
   "execution_count": 7,
   "id": "6179266b",
   "metadata": {
    "colab": {
     "base_uri": "https://localhost:8080/",
     "height": 397
    },
    "id": "6179266b",
    "outputId": "ac5e293c-dc33-4e11-d708-c783af429ad8"
   },
   "outputs": [
    {
     "data": {
      "text/plain": [
       "Unnamed: 0     0.000000\n",
       "insert_date    0.000000\n",
       "origin         0.000000\n",
       "destination    0.000000\n",
       "start_date     0.000000\n",
       "end_date       0.000000\n",
       "train_type     0.000000\n",
       "price          6.293392\n",
       "train_class    0.297811\n",
       "fare           0.297811\n",
       "dtype: float64"
      ]
     },
     "execution_count": 7,
     "metadata": {},
     "output_type": "execute_result"
    }
   ],
   "source": [
    "(df.isnull().sum()/df.shape[0])*100"
   ]
  },
  {
   "cell_type": "markdown",
   "id": "KoKuXdJrzO4I",
   "metadata": {
    "id": "KoKuXdJrzO4I"
   },
   "source": [
    "As null values are around 5-6 percent of the whole dataset so i will drop them.\n"
   ]
  },
  {
   "cell_type": "code",
   "execution_count": 8,
   "id": "a9d39d9f",
   "metadata": {
    "id": "a9d39d9f"
   },
   "outputs": [],
   "source": [
    "df.dropna(inplace=True)"
   ]
  },
  {
   "cell_type": "code",
   "execution_count": 9,
   "id": "440b9c53",
   "metadata": {
    "colab": {
     "base_uri": "https://localhost:8080/",
     "height": 397
    },
    "id": "440b9c53",
    "outputId": "7705bf8d-73a3-4e3e-ffd5-c9ba0731df7a"
   },
   "outputs": [
    {
     "data": {
      "text/plain": [
       "Unnamed: 0     0\n",
       "insert_date    0\n",
       "origin         0\n",
       "destination    0\n",
       "start_date     0\n",
       "end_date       0\n",
       "train_type     0\n",
       "price          0\n",
       "train_class    0\n",
       "fare           0\n",
       "dtype: int64"
      ]
     },
     "execution_count": 9,
     "metadata": {},
     "output_type": "execute_result"
    }
   ],
   "source": [
    "df.isnull().sum()"
   ]
  },
  {
   "cell_type": "code",
   "execution_count": 10,
   "id": "310242c3",
   "metadata": {
    "colab": {
     "base_uri": "https://localhost:8080/"
    },
    "id": "310242c3",
    "outputId": "51b738dc-24ce-4a59-a9c9-bca074adca84"
   },
   "outputs": [
    {
     "data": {
      "text/plain": [
       "Index(['Unnamed: 0', 'insert_date', 'origin', 'destination', 'start_date',\n",
       "       'end_date', 'train_type', 'price', 'train_class', 'fare'],\n",
       "      dtype='object')"
      ]
     },
     "execution_count": 10,
     "metadata": {},
     "output_type": "execute_result"
    }
   ],
   "source": [
    "df.columns"
   ]
  },
  {
   "cell_type": "code",
   "execution_count": 11,
   "id": "a00b1fe4",
   "metadata": {
    "colab": {
     "base_uri": "https://localhost:8080/"
    },
    "id": "a00b1fe4",
    "outputId": "7d5b8af4-408e-4cff-e942-6b25cfa77c35"
   },
   "outputs": [
    {
     "name": "stdout",
     "output_type": "stream",
     "text": [
      "Unique values in origin column are:\n",
      "['PONFERRADA' 'MADRID' 'SEVILLA' 'VALENCIA' 'BARCELONA']\n",
      "****************************************************************************************************\n",
      "\n",
      "Unique values in destination column are:\n",
      "['MADRID' 'VALENCIA' 'BARCELONA' 'PONFERRADA' 'SEVILLA']\n",
      "****************************************************************************************************\n",
      "\n",
      "Unique values in train_type column are:\n",
      "['MD-AVE' 'MD-LD' 'ALVIA' 'REGIONAL' 'AVE' 'INTERCITY' 'AVE-MD' 'AVE-LD'\n",
      " 'R. EXPRES' 'AVE-TGV' 'AV City' 'MD' 'LD' 'LD-MD' 'TRENHOTEL']\n",
      "****************************************************************************************************\n",
      "\n",
      "Unique values in price column are:\n",
      "[ 59.5   34.65  39.95  40.6   27.9   28.35  21.95  39.45  29.9   33.65\n",
      "  45.3   71.    56.1   66.55  30.9   51.15  36.15  27.8   43.25  66.75\n",
      "  85.1  107.7  102.15  90.5   88.95  98.   100.4   98.55  75.4   58.15\n",
      "  80.15  69.8   58.95  52.5   69.4   76.3   79.65 128.5   62.2   64.05\n",
      "  72.3   47.3   69.35  87.4   61.45  47.05  53.4   60.3   52.2   35.75\n",
      "  31.2   33.5   42.75  54.1   57.75  32.4   55.4   43.75  17.15  78.8\n",
      "  86.8   49.55  49.15  61.2   39.05 172.4  206.8   38.75  37.45  16.6\n",
      "  34.35  28.1   36.05  20.6  112.55  52.45  89.95  74.6  115.65  73.1\n",
      "  22.9   35.1   85.08  41.2   55.8   29.    75.6   59.1   21.05 127.05\n",
      " 101.5   44.7   56.65 127.1   91.5   64.25  68.65  94.55  40.95  68.95\n",
      "  38.8   57.95  54.45  32.3   81.4   58.45  83.5   82.35  48.3   70.15\n",
      "  66.77  58.16  80.17  68.63 100.41  90.51  58.47  40.93  75.39 120.5\n",
      " 106.75  49.54  53.2   30.05  45.8   74.2   38.55  43.55  48.85  37.65\n",
      "  33.6   64.4   51.35  46.8   43.7   45.6  129.3   67.2   40.3   35.15\n",
      "  53.5 ]\n",
      "****************************************************************************************************\n",
      "\n",
      "Unique values in train_class column are:\n",
      "['Turista con enlace' 'Turista' 'Preferente' 'Turista Plus' 'Cama Turista']\n",
      "****************************************************************************************************\n",
      "\n",
      "Unique values in fare column are:\n",
      "['Flexible' 'Promo +' 'Promo' 'Adulto ida' 'Mesa']\n",
      "****************************************************************************************************\n",
      "\n"
     ]
    }
   ],
   "source": [
    "col = ['origin', 'destination','train_type', 'price', 'train_class', 'fare']\n",
    "for i in col:\n",
    "    print(f\"Unique values in {i} column are:\")\n",
    "    print(df[i].unique())\n",
    "    print(\"*\"*100)\n",
    "    print()"
   ]
  },
  {
   "cell_type": "markdown",
   "id": "28tu8CMYz8KZ",
   "metadata": {
    "id": "28tu8CMYz8KZ"
   },
   "source": [
    "#### Explanation of Unique Values in the Dataset:\n",
    "\n",
    "**Origin and Destination:**\n",
    "\n",
    "These columns represent the starting and ending points of the train journey. The unique values indicate popular train stations in Spain.\n",
    "- PONFERRADA: A town in the province of León.\n",
    "-MADRID: The capital city of Spain and a major hub for train travel.\n",
    "-SEVILLA: A city in the Andalusia region, known for its cultural and historical significance.\n",
    "-VALENCIA: A port city on Spain's southeastern coast.\n",
    "-BARCELONA: A major city and popular tourist destination in Catalonia.\n",
    "\n",
    "**Train Type:**\n",
    "\n",
    "This column indicates the type of train or service. Each train type has its own characteristics, such as speed, comfort, and route:\n",
    "- MD-AVE: A medium-distance train that runs on the AVE high-speed network.\n",
    "- MD-LD: A medium-distance train on long-distance routes.\n",
    "- ALVIA: A high-speed service that can run on both high-speed and conventional tracks.\n",
    "- REGIONAL: Trains that operate on shorter, regional routes.\n",
    "- AVE: The high-speed rail service, known for its fast travel times.\n",
    "- INTERCITY: A long-distance train that connects major cities.\n",
    "- AVE-MD: A combination of AVE and medium-distance service.\n",
    "- AVE-LD: A combination of AVE and long-distance service.\n",
    "- R. EXPRES: A regional express service.\n",
    "- AVE-TGV: High-speed collaboration between Spain's AVE and France's TGV services.\n",
    "- AV City: A slightly slower version of AVE, with fewer amenities.\n",
    "- MD: Medium-distance trains.\n",
    "- LD: Long-distance trains.\n",
    "- LD-MD: A combination of long-distance and medium-distance services.\n",
    "- TRENHOTEL: Overnight trains with sleeping accommodations.\n",
    "\n",
    "**Train Class**:\n",
    "\n",
    "This column indicates the class of service provided on the train, affecting the level of comfort and amenities.\n",
    "- Turista con enlace: Standard class with a connection to another service.\n",
    "- Turista: Standard class, offering basic amenities.\n",
    "- Preferente: First-class service, offering enhanced comfort and amenities.\n",
    "- Turista Plus: A premium version of the standard class, offering better seating.\n",
    "- Cama Turista: A sleeper class for overnight trains, providing beds for passengers.\n",
    "\n",
    "**Fare:**\n",
    "\n",
    "This column represents the fare type, which determines the pricing flexibility and potential discounts:\n",
    "- Flexible: A fare that allows changes and cancellations with minimal restrictions.\n",
    "- Promo +: A promotional fare with some flexibility but usually offering a discount.\n",
    "- Promo: A heavily discounted fare with limited flexibility.\n",
    "- Adulto ida: A standard one-way fare for adults.\n",
    "- Mesa: A special group fare, often offering discounts for booking a table of seats."
   ]
  },
  {
   "cell_type": "code",
   "execution_count": 12,
   "id": "daaad5ab",
   "metadata": {
    "colab": {
     "base_uri": "https://localhost:8080/",
     "height": 206
    },
    "id": "daaad5ab",
    "outputId": "3d32f714-716c-4584-d760-d1a6a13d4ba2"
   },
   "outputs": [
    {
     "data": {
      "text/html": [
       "<div>\n",
       "<style scoped>\n",
       "    .dataframe tbody tr th:only-of-type {\n",
       "        vertical-align: middle;\n",
       "    }\n",
       "\n",
       "    .dataframe tbody tr th {\n",
       "        vertical-align: top;\n",
       "    }\n",
       "\n",
       "    .dataframe thead th {\n",
       "        text-align: right;\n",
       "    }\n",
       "</style>\n",
       "<table border=\"1\" class=\"dataframe\">\n",
       "  <thead>\n",
       "    <tr style=\"text-align: right;\">\n",
       "      <th></th>\n",
       "      <th>Unnamed: 0</th>\n",
       "      <th>insert_date</th>\n",
       "      <th>origin</th>\n",
       "      <th>destination</th>\n",
       "      <th>start_date</th>\n",
       "      <th>end_date</th>\n",
       "      <th>train_type</th>\n",
       "      <th>price</th>\n",
       "      <th>train_class</th>\n",
       "      <th>fare</th>\n",
       "    </tr>\n",
       "  </thead>\n",
       "  <tbody>\n",
       "    <tr>\n",
       "      <th>0</th>\n",
       "      <td>702</td>\n",
       "      <td>2019-04-19 05:37:35</td>\n",
       "      <td>PONFERRADA</td>\n",
       "      <td>MADRID</td>\n",
       "      <td>2019-06-02 15:00:00</td>\n",
       "      <td>2019-06-02 19:42:00</td>\n",
       "      <td>MD-AVE</td>\n",
       "      <td>59.50</td>\n",
       "      <td>Turista con enlace</td>\n",
       "      <td>Flexible</td>\n",
       "    </tr>\n",
       "    <tr>\n",
       "      <th>1</th>\n",
       "      <td>703</td>\n",
       "      <td>2019-04-19 05:37:35</td>\n",
       "      <td>PONFERRADA</td>\n",
       "      <td>MADRID</td>\n",
       "      <td>2019-06-02 17:15:00</td>\n",
       "      <td>2019-06-02 23:03:00</td>\n",
       "      <td>MD-AVE</td>\n",
       "      <td>34.65</td>\n",
       "      <td>Turista con enlace</td>\n",
       "      <td>Promo +</td>\n",
       "    </tr>\n",
       "    <tr>\n",
       "      <th>2</th>\n",
       "      <td>704</td>\n",
       "      <td>2019-04-19 05:37:35</td>\n",
       "      <td>PONFERRADA</td>\n",
       "      <td>MADRID</td>\n",
       "      <td>2019-06-02 17:15:00</td>\n",
       "      <td>2019-06-02 23:10:00</td>\n",
       "      <td>MD-LD</td>\n",
       "      <td>39.95</td>\n",
       "      <td>Turista con enlace</td>\n",
       "      <td>Promo +</td>\n",
       "    </tr>\n",
       "    <tr>\n",
       "      <th>3</th>\n",
       "      <td>705</td>\n",
       "      <td>2019-04-19 05:37:35</td>\n",
       "      <td>PONFERRADA</td>\n",
       "      <td>MADRID</td>\n",
       "      <td>2019-06-02 17:15:00</td>\n",
       "      <td>2019-06-02 22:14:00</td>\n",
       "      <td>MD-AVE</td>\n",
       "      <td>40.60</td>\n",
       "      <td>Turista con enlace</td>\n",
       "      <td>Promo +</td>\n",
       "    </tr>\n",
       "    <tr>\n",
       "      <th>4</th>\n",
       "      <td>706</td>\n",
       "      <td>2019-04-19 05:37:35</td>\n",
       "      <td>PONFERRADA</td>\n",
       "      <td>MADRID</td>\n",
       "      <td>2019-06-02 18:55:00</td>\n",
       "      <td>2019-06-02 23:03:00</td>\n",
       "      <td>ALVIA</td>\n",
       "      <td>27.90</td>\n",
       "      <td>Turista</td>\n",
       "      <td>Promo</td>\n",
       "    </tr>\n",
       "  </tbody>\n",
       "</table>\n",
       "</div>"
      ],
      "text/plain": [
       "   Unnamed: 0          insert_date      origin destination  \\\n",
       "0         702  2019-04-19 05:37:35  PONFERRADA      MADRID   \n",
       "1         703  2019-04-19 05:37:35  PONFERRADA      MADRID   \n",
       "2         704  2019-04-19 05:37:35  PONFERRADA      MADRID   \n",
       "3         705  2019-04-19 05:37:35  PONFERRADA      MADRID   \n",
       "4         706  2019-04-19 05:37:35  PONFERRADA      MADRID   \n",
       "\n",
       "            start_date             end_date train_type  price  \\\n",
       "0  2019-06-02 15:00:00  2019-06-02 19:42:00     MD-AVE  59.50   \n",
       "1  2019-06-02 17:15:00  2019-06-02 23:03:00     MD-AVE  34.65   \n",
       "2  2019-06-02 17:15:00  2019-06-02 23:10:00      MD-LD  39.95   \n",
       "3  2019-06-02 17:15:00  2019-06-02 22:14:00     MD-AVE  40.60   \n",
       "4  2019-06-02 18:55:00  2019-06-02 23:03:00      ALVIA  27.90   \n",
       "\n",
       "          train_class      fare  \n",
       "0  Turista con enlace  Flexible  \n",
       "1  Turista con enlace   Promo +  \n",
       "2  Turista con enlace   Promo +  \n",
       "3  Turista con enlace   Promo +  \n",
       "4             Turista     Promo  "
      ]
     },
     "execution_count": 12,
     "metadata": {},
     "output_type": "execute_result"
    }
   ],
   "source": [
    "df.head()"
   ]
  },
  {
   "cell_type": "code",
   "execution_count": 13,
   "id": "8e46bdec",
   "metadata": {
    "id": "8e46bdec"
   },
   "outputs": [],
   "source": [
    "# converting them to datetime\n",
    "df['insert_date'] = pd.to_datetime(df['insert_date'], format = '%Y-%m-%d %H:%M:%S')\n",
    "df['start_date'] = pd.to_datetime(df['start_date'], format = '%Y-%m-%d %H:%M:%S')\n",
    "df['end_date'] = pd.to_datetime(df['end_date'], format = '%Y-%m-%d %H:%M:%S')"
   ]
  },
  {
   "cell_type": "code",
   "execution_count": 14,
   "id": "d8e0da1c",
   "metadata": {
    "id": "d8e0da1c"
   },
   "outputs": [],
   "source": [
    "df[\"journey_duration_hrs\"] = (df['end_date'] - df['start_date']).dt.total_seconds()/3600"
   ]
  },
  {
   "cell_type": "code",
   "execution_count": 15,
   "id": "7bfb219b",
   "metadata": {
    "id": "7bfb219b"
   },
   "outputs": [],
   "source": [
    "df[\"journey_duration_hrs\"] =df[\"journey_duration_hrs\"].apply(lambda x : round(x,2))"
   ]
  },
  {
   "cell_type": "code",
   "execution_count": 16,
   "id": "aed6138e",
   "metadata": {
    "colab": {
     "base_uri": "https://localhost:8080/",
     "height": 206
    },
    "id": "aed6138e",
    "outputId": "24622392-4f4f-4174-cb2e-4c79de37c86f"
   },
   "outputs": [
    {
     "data": {
      "text/html": [
       "<div>\n",
       "<style scoped>\n",
       "    .dataframe tbody tr th:only-of-type {\n",
       "        vertical-align: middle;\n",
       "    }\n",
       "\n",
       "    .dataframe tbody tr th {\n",
       "        vertical-align: top;\n",
       "    }\n",
       "\n",
       "    .dataframe thead th {\n",
       "        text-align: right;\n",
       "    }\n",
       "</style>\n",
       "<table border=\"1\" class=\"dataframe\">\n",
       "  <thead>\n",
       "    <tr style=\"text-align: right;\">\n",
       "      <th></th>\n",
       "      <th>Unnamed: 0</th>\n",
       "      <th>insert_date</th>\n",
       "      <th>origin</th>\n",
       "      <th>destination</th>\n",
       "      <th>start_date</th>\n",
       "      <th>end_date</th>\n",
       "      <th>train_type</th>\n",
       "      <th>price</th>\n",
       "      <th>train_class</th>\n",
       "      <th>fare</th>\n",
       "      <th>journey_duration_hrs</th>\n",
       "    </tr>\n",
       "  </thead>\n",
       "  <tbody>\n",
       "    <tr>\n",
       "      <th>0</th>\n",
       "      <td>702</td>\n",
       "      <td>2019-04-19 05:37:35</td>\n",
       "      <td>PONFERRADA</td>\n",
       "      <td>MADRID</td>\n",
       "      <td>2019-06-02 15:00:00</td>\n",
       "      <td>2019-06-02 19:42:00</td>\n",
       "      <td>MD-AVE</td>\n",
       "      <td>59.50</td>\n",
       "      <td>Turista con enlace</td>\n",
       "      <td>Flexible</td>\n",
       "      <td>4.70</td>\n",
       "    </tr>\n",
       "    <tr>\n",
       "      <th>1</th>\n",
       "      <td>703</td>\n",
       "      <td>2019-04-19 05:37:35</td>\n",
       "      <td>PONFERRADA</td>\n",
       "      <td>MADRID</td>\n",
       "      <td>2019-06-02 17:15:00</td>\n",
       "      <td>2019-06-02 23:03:00</td>\n",
       "      <td>MD-AVE</td>\n",
       "      <td>34.65</td>\n",
       "      <td>Turista con enlace</td>\n",
       "      <td>Promo +</td>\n",
       "      <td>5.80</td>\n",
       "    </tr>\n",
       "    <tr>\n",
       "      <th>2</th>\n",
       "      <td>704</td>\n",
       "      <td>2019-04-19 05:37:35</td>\n",
       "      <td>PONFERRADA</td>\n",
       "      <td>MADRID</td>\n",
       "      <td>2019-06-02 17:15:00</td>\n",
       "      <td>2019-06-02 23:10:00</td>\n",
       "      <td>MD-LD</td>\n",
       "      <td>39.95</td>\n",
       "      <td>Turista con enlace</td>\n",
       "      <td>Promo +</td>\n",
       "      <td>5.92</td>\n",
       "    </tr>\n",
       "    <tr>\n",
       "      <th>3</th>\n",
       "      <td>705</td>\n",
       "      <td>2019-04-19 05:37:35</td>\n",
       "      <td>PONFERRADA</td>\n",
       "      <td>MADRID</td>\n",
       "      <td>2019-06-02 17:15:00</td>\n",
       "      <td>2019-06-02 22:14:00</td>\n",
       "      <td>MD-AVE</td>\n",
       "      <td>40.60</td>\n",
       "      <td>Turista con enlace</td>\n",
       "      <td>Promo +</td>\n",
       "      <td>4.98</td>\n",
       "    </tr>\n",
       "    <tr>\n",
       "      <th>4</th>\n",
       "      <td>706</td>\n",
       "      <td>2019-04-19 05:37:35</td>\n",
       "      <td>PONFERRADA</td>\n",
       "      <td>MADRID</td>\n",
       "      <td>2019-06-02 18:55:00</td>\n",
       "      <td>2019-06-02 23:03:00</td>\n",
       "      <td>ALVIA</td>\n",
       "      <td>27.90</td>\n",
       "      <td>Turista</td>\n",
       "      <td>Promo</td>\n",
       "      <td>4.13</td>\n",
       "    </tr>\n",
       "  </tbody>\n",
       "</table>\n",
       "</div>"
      ],
      "text/plain": [
       "   Unnamed: 0         insert_date      origin destination          start_date  \\\n",
       "0         702 2019-04-19 05:37:35  PONFERRADA      MADRID 2019-06-02 15:00:00   \n",
       "1         703 2019-04-19 05:37:35  PONFERRADA      MADRID 2019-06-02 17:15:00   \n",
       "2         704 2019-04-19 05:37:35  PONFERRADA      MADRID 2019-06-02 17:15:00   \n",
       "3         705 2019-04-19 05:37:35  PONFERRADA      MADRID 2019-06-02 17:15:00   \n",
       "4         706 2019-04-19 05:37:35  PONFERRADA      MADRID 2019-06-02 18:55:00   \n",
       "\n",
       "             end_date train_type  price         train_class      fare  \\\n",
       "0 2019-06-02 19:42:00     MD-AVE  59.50  Turista con enlace  Flexible   \n",
       "1 2019-06-02 23:03:00     MD-AVE  34.65  Turista con enlace   Promo +   \n",
       "2 2019-06-02 23:10:00      MD-LD  39.95  Turista con enlace   Promo +   \n",
       "3 2019-06-02 22:14:00     MD-AVE  40.60  Turista con enlace   Promo +   \n",
       "4 2019-06-02 23:03:00      ALVIA  27.90             Turista     Promo   \n",
       "\n",
       "   journey_duration_hrs  \n",
       "0                  4.70  \n",
       "1                  5.80  \n",
       "2                  5.92  \n",
       "3                  4.98  \n",
       "4                  4.13  "
      ]
     },
     "execution_count": 16,
     "metadata": {},
     "output_type": "execute_result"
    }
   ],
   "source": [
    "df.head()"
   ]
  },
  {
   "cell_type": "code",
   "execution_count": 17,
   "id": "ae3a8e4e",
   "metadata": {
    "id": "ae3a8e4e"
   },
   "outputs": [],
   "source": [
    "df[\"booking_before_days\"] = (df[\"start_date\"] - df['insert_date']).dt.days"
   ]
  },
  {
   "cell_type": "code",
   "execution_count": 18,
   "id": "22ba4ea3",
   "metadata": {
    "id": "22ba4ea3"
   },
   "outputs": [],
   "source": [
    "df.drop(columns = 'Unnamed: 0', inplace = True)"
   ]
  },
  {
   "cell_type": "code",
   "execution_count": 19,
   "id": "16935956",
   "metadata": {
    "colab": {
     "base_uri": "https://localhost:8080/",
     "height": 293
    },
    "id": "16935956",
    "outputId": "a9cdf793-ba72-4007-f53a-02d45c848c6a"
   },
   "outputs": [
    {
     "data": {
      "text/html": [
       "<div>\n",
       "<style scoped>\n",
       "    .dataframe tbody tr th:only-of-type {\n",
       "        vertical-align: middle;\n",
       "    }\n",
       "\n",
       "    .dataframe tbody tr th {\n",
       "        vertical-align: top;\n",
       "    }\n",
       "\n",
       "    .dataframe thead th {\n",
       "        text-align: right;\n",
       "    }\n",
       "</style>\n",
       "<table border=\"1\" class=\"dataframe\">\n",
       "  <thead>\n",
       "    <tr style=\"text-align: right;\">\n",
       "      <th></th>\n",
       "      <th>insert_date</th>\n",
       "      <th>origin</th>\n",
       "      <th>destination</th>\n",
       "      <th>start_date</th>\n",
       "      <th>end_date</th>\n",
       "      <th>train_type</th>\n",
       "      <th>price</th>\n",
       "      <th>train_class</th>\n",
       "      <th>fare</th>\n",
       "      <th>journey_duration_hrs</th>\n",
       "      <th>booking_before_days</th>\n",
       "    </tr>\n",
       "  </thead>\n",
       "  <tbody>\n",
       "    <tr>\n",
       "      <th>0</th>\n",
       "      <td>2019-04-19 05:37:35</td>\n",
       "      <td>PONFERRADA</td>\n",
       "      <td>MADRID</td>\n",
       "      <td>2019-06-02 15:00:00</td>\n",
       "      <td>2019-06-02 19:42:00</td>\n",
       "      <td>MD-AVE</td>\n",
       "      <td>59.50</td>\n",
       "      <td>Turista con enlace</td>\n",
       "      <td>Flexible</td>\n",
       "      <td>4.70</td>\n",
       "      <td>44</td>\n",
       "    </tr>\n",
       "    <tr>\n",
       "      <th>1</th>\n",
       "      <td>2019-04-19 05:37:35</td>\n",
       "      <td>PONFERRADA</td>\n",
       "      <td>MADRID</td>\n",
       "      <td>2019-06-02 17:15:00</td>\n",
       "      <td>2019-06-02 23:03:00</td>\n",
       "      <td>MD-AVE</td>\n",
       "      <td>34.65</td>\n",
       "      <td>Turista con enlace</td>\n",
       "      <td>Promo +</td>\n",
       "      <td>5.80</td>\n",
       "      <td>44</td>\n",
       "    </tr>\n",
       "    <tr>\n",
       "      <th>2</th>\n",
       "      <td>2019-04-19 05:37:35</td>\n",
       "      <td>PONFERRADA</td>\n",
       "      <td>MADRID</td>\n",
       "      <td>2019-06-02 17:15:00</td>\n",
       "      <td>2019-06-02 23:10:00</td>\n",
       "      <td>MD-LD</td>\n",
       "      <td>39.95</td>\n",
       "      <td>Turista con enlace</td>\n",
       "      <td>Promo +</td>\n",
       "      <td>5.92</td>\n",
       "      <td>44</td>\n",
       "    </tr>\n",
       "    <tr>\n",
       "      <th>3</th>\n",
       "      <td>2019-04-19 05:37:35</td>\n",
       "      <td>PONFERRADA</td>\n",
       "      <td>MADRID</td>\n",
       "      <td>2019-06-02 17:15:00</td>\n",
       "      <td>2019-06-02 22:14:00</td>\n",
       "      <td>MD-AVE</td>\n",
       "      <td>40.60</td>\n",
       "      <td>Turista con enlace</td>\n",
       "      <td>Promo +</td>\n",
       "      <td>4.98</td>\n",
       "      <td>44</td>\n",
       "    </tr>\n",
       "    <tr>\n",
       "      <th>4</th>\n",
       "      <td>2019-04-19 05:37:35</td>\n",
       "      <td>PONFERRADA</td>\n",
       "      <td>MADRID</td>\n",
       "      <td>2019-06-02 18:55:00</td>\n",
       "      <td>2019-06-02 23:03:00</td>\n",
       "      <td>ALVIA</td>\n",
       "      <td>27.90</td>\n",
       "      <td>Turista</td>\n",
       "      <td>Promo</td>\n",
       "      <td>4.13</td>\n",
       "      <td>44</td>\n",
       "    </tr>\n",
       "  </tbody>\n",
       "</table>\n",
       "</div>"
      ],
      "text/plain": [
       "          insert_date      origin destination          start_date  \\\n",
       "0 2019-04-19 05:37:35  PONFERRADA      MADRID 2019-06-02 15:00:00   \n",
       "1 2019-04-19 05:37:35  PONFERRADA      MADRID 2019-06-02 17:15:00   \n",
       "2 2019-04-19 05:37:35  PONFERRADA      MADRID 2019-06-02 17:15:00   \n",
       "3 2019-04-19 05:37:35  PONFERRADA      MADRID 2019-06-02 17:15:00   \n",
       "4 2019-04-19 05:37:35  PONFERRADA      MADRID 2019-06-02 18:55:00   \n",
       "\n",
       "             end_date train_type  price         train_class      fare  \\\n",
       "0 2019-06-02 19:42:00     MD-AVE  59.50  Turista con enlace  Flexible   \n",
       "1 2019-06-02 23:03:00     MD-AVE  34.65  Turista con enlace   Promo +   \n",
       "2 2019-06-02 23:10:00      MD-LD  39.95  Turista con enlace   Promo +   \n",
       "3 2019-06-02 22:14:00     MD-AVE  40.60  Turista con enlace   Promo +   \n",
       "4 2019-06-02 23:03:00      ALVIA  27.90             Turista     Promo   \n",
       "\n",
       "   journey_duration_hrs  booking_before_days  \n",
       "0                  4.70                   44  \n",
       "1                  5.80                   44  \n",
       "2                  5.92                   44  \n",
       "3                  4.98                   44  \n",
       "4                  4.13                   44  "
      ]
     },
     "execution_count": 19,
     "metadata": {},
     "output_type": "execute_result"
    }
   ],
   "source": [
    "df.head()"
   ]
  },
  {
   "cell_type": "markdown",
   "id": "27ef7889",
   "metadata": {
    "id": "27ef7889"
   },
   "source": [
    "# **Data Visualization**"
   ]
  },
  {
   "cell_type": "code",
   "execution_count": 20,
   "id": "222d76ce",
   "metadata": {
    "colab": {
     "base_uri": "https://localhost:8080/"
    },
    "id": "222d76ce",
    "outputId": "504a69d1-e0d1-4383-833a-79dfdadd255a"
   },
   "outputs": [
    {
     "data": {
      "text/plain": [
       "['origin', 'destination', 'train_type', 'train_class', 'fare']"
      ]
     },
     "execution_count": 20,
     "metadata": {},
     "output_type": "execute_result"
    }
   ],
   "source": [
    "categorical_col = list(df.select_dtypes(include = 'object').columns)\n",
    "categorical_col"
   ]
  },
  {
   "cell_type": "code",
   "execution_count": 21,
   "id": "48fe4689",
   "metadata": {
    "colab": {
     "base_uri": "https://localhost:8080/",
     "height": 1000
    },
    "id": "48fe4689",
    "outputId": "f58565c0-58b0-45cf-9f15-5d4c3818b5bc"
   },
   "outputs": [
    {
     "data": {
      "image/png": "[encoded data removed]",
      "text/plain": [
       "<Figure size 2000x1500 with 5 Axes>"
      ]
     },
     "metadata": {},
     "output_type": "display_data"
    }
   ],
   "source": [
    "plt.figure(figsize = (20,15))\n",
    "for i in range(1, len(categorical_col)+1):\n",
    "    plt.subplot(3,2,i)\n",
    "    bar = df[categorical_col[i-1]].value_counts().plot(kind= 'bar')\n",
    "\n",
    "    for container in bar.containers:\n",
    "        bar.bar_label(container, labels=[f'{(val/df.shape[0])*100:.2f}%' for val in container.datavalues])\n",
    "\n",
    "plt.subplots_adjust(hspace=0.5, wspace=0.3)\n",
    "plt.show()"
   ]
  },
  {
   "cell_type": "code",
   "execution_count": 22,
   "id": "38f3c1e2",
   "metadata": {
    "colab": {
     "base_uri": "https://localhost:8080/"
    },
    "id": "38f3c1e2",
    "outputId": "a0349202-d504-4615-e469-6c8160b83b8e"
   },
   "outputs": [
    {
     "name": "stdout",
     "output_type": "stream",
     "text": [
      "<class 'pandas.core.frame.DataFrame'>\n",
      "Index: 202321 entries, 0 to 215908\n",
      "Data columns (total 11 columns):\n",
      " #   Column                Non-Null Count   Dtype         \n",
      "---  ------                --------------   -----         \n",
      " 0   insert_date           202321 non-null  datetime64[ns]\n",
      " 1   origin                202321 non-null  object        \n",
      " 2   destination           202321 non-null  object        \n",
      " 3   start_date            202321 non-null  datetime64[ns]\n",
      " 4   end_date              202321 non-null  datetime64[ns]\n",
      " 5   train_type            202321 non-null  object        \n",
      " 6   price                 202321 non-null  float64       \n",
      " 7   train_class           202321 non-null  object        \n",
      " 8   fare                  202321 non-null  object        \n",
      " 9   journey_duration_hrs  202321 non-null  float64       \n",
      " 10  booking_before_days   202321 non-null  int64         \n",
      "dtypes: datetime64[ns](3), float64(2), int64(1), object(5)\n",
      "memory usage: 18.5+ MB\n"
     ]
    }
   ],
   "source": [
    "df.info()"
   ]
  },
  {
   "cell_type": "code",
   "execution_count": 23,
   "id": "4ebf7108",
   "metadata": {
    "colab": {
     "base_uri": "https://localhost:8080/"
    },
    "id": "4ebf7108",
    "outputId": "53fb6a0e-7714-4d8d-f56a-5ba18b9c7feb"
   },
   "outputs": [
    {
     "data": {
      "text/plain": [
       "Index(['price', 'journey_duration_hrs', 'booking_before_days'], dtype='object')"
      ]
     },
     "execution_count": 23,
     "metadata": {},
     "output_type": "execute_result"
    }
   ],
   "source": [
    "numerical_col = df.select_dtypes(include = [\"float64\", \"int64\"]).columns\n",
    "numerical_col"
   ]
  },
  {
   "cell_type": "code",
   "execution_count": 24,
   "id": "317631c8",
   "metadata": {
    "colab": {
     "base_uri": "https://localhost:8080/",
     "height": 295
    },
    "id": "317631c8",
    "outputId": "4bf0facb-0249-4e5a-c316-29bfad0c1511"
   },
   "outputs": [
    {
     "data": {
      "image/png": "[encoded data removed]",
      "text/plain": [
       "<Figure size 1000x300 with 3 Axes>"
      ]
     },
     "metadata": {},
     "output_type": "display_data"
    }
   ],
   "source": [
    "plt.figure(figsize=(10,3))\n",
    "for i in range(1, len(numerical_col)+1):\n",
    "    plt.subplot(1,3,i)\n",
    "    sns.boxplot(df[numerical_col[i-1]])\n",
    "    plt.title(f\"{numerical_col[i-1]} column\")\n",
    "plt.subplots_adjust(hspace= 0.5, wspace=0.5)\n",
    "plt.show()"
   ]
  },
  {
   "cell_type": "code",
   "execution_count": 25,
   "id": "36f4a55c",
   "metadata": {
    "colab": {
     "base_uri": "https://localhost:8080/",
     "height": 333
    },
    "id": "36f4a55c",
    "outputId": "3d0ea51a-dd3a-4563-8e72-7c69e1f3c223"
   },
   "outputs": [
    {
     "data": {
      "image/png": "[encoded data removed]",
      "text/plain": [
       "<Figure size 1000x300 with 3 Axes>"
      ]
     },
     "metadata": {},
     "output_type": "display_data"
    }
   ],
   "source": [
    "plt.figure(figsize=(10,3))\n",
    "for i in range(1, len(numerical_col)+1):\n",
    "    plt.subplot(1,3,i)\n",
    "    sns.kdeplot(df[numerical_col[i-1]], fill = True)\n",
    "    plt.title(f\"{numerical_col[i-1]} column\")\n",
    "\n",
    "plt.subplots_adjust(hspace= 0.5, wspace=0.5)\n",
    "plt.show()\n",
    "\n"
   ]
  },
  {
   "cell_type": "code",
   "execution_count": 26,
   "id": "bf0c2244",
   "metadata": {
    "colab": {
     "base_uri": "https://localhost:8080/",
     "height": 472
    },
    "id": "bf0c2244",
    "outputId": "a6640b53-ac4c-4884-edbb-43bdf0d1293b"
   },
   "outputs": [
    {
     "data": {
      "image/png": "[encoded data removed]",
      "text/plain": [
       "<Figure size 640x480 with 1 Axes>"
      ]
     },
     "metadata": {},
     "output_type": "display_data"
    }
   ],
   "source": [
    "sns.scatterplot(x = 'journey_duration_hrs', y = \"price\", data = df, hue= 'train_class')\n",
    "plt.title(\"Relation between time duration and price of ticket\")\n",
    "plt.show()"
   ]
  },
  {
   "cell_type": "code",
   "execution_count": 27,
   "id": "Z5uOkfon38o0",
   "metadata": {
    "colab": {
     "base_uri": "https://localhost:8080/",
     "height": 716
    },
    "id": "Z5uOkfon38o0",
    "outputId": "e2071f9d-47f8-4288-bc73-7d993776863e"
   },
   "outputs": [
    {
     "data": {
      "image/png": "[encoded data removed]",
      "text/plain": [
       "<Figure size 1500x800 with 5 Axes>"
      ]
     },
     "metadata": {},
     "output_type": "display_data"
    }
   ],
   "source": [
    "\n",
    "plt.figure(figsize=(15, 8))\n",
    "\n",
    "for col in range(1, len(categorical_col) + 1):\n",
    "    plt.subplot(2, 3, col)\n",
    "    mean_price = df.groupby(categorical_col[col - 1])[\"price\"].mean().sort_values().reset_index()\n",
    "    mean_price[\"price\"] = mean_price[\"price\"].apply(lambda x: round(x,2))\n",
    "    bar_plot = sns.barplot(x=categorical_col[col - 1], y='price', data=mean_price)\n",
    "\n",
    "    for values in bar_plot.containers:\n",
    "      bar_plot.bar_label(values)\n",
    "\n",
    "    plt.title(f\"Mean Price by {categorical_col[col - 1]}\")\n",
    "    plt.xticks(rotation=90)\n",
    "\n",
    "plt.tight_layout()\n",
    "plt.show()\n",
    "\n"
   ]
  },
  {
   "cell_type": "code",
   "execution_count": 29,
   "id": "d7009bb0",
   "metadata": {
    "colab": {
     "base_uri": "https://localhost:8080/",
     "height": 143
    },
    "id": "d7009bb0",
    "outputId": "7a8d8fd5-ddd6-4fa2-f51f-25ed21d3d089"
   },
   "outputs": [
    {
     "data": {
      "text/html": [
       "<div>\n",
       "<style scoped>\n",
       "    .dataframe tbody tr th:only-of-type {\n",
       "        vertical-align: middle;\n",
       "    }\n",
       "\n",
       "    .dataframe tbody tr th {\n",
       "        vertical-align: top;\n",
       "    }\n",
       "\n",
       "    .dataframe thead th {\n",
       "        text-align: right;\n",
       "    }\n",
       "</style>\n",
       "<table border=\"1\" class=\"dataframe\">\n",
       "  <thead>\n",
       "    <tr style=\"text-align: right;\">\n",
       "      <th></th>\n",
       "      <th>price</th>\n",
       "      <th>journey_duration_hrs</th>\n",
       "      <th>booking_before_days</th>\n",
       "    </tr>\n",
       "  </thead>\n",
       "  <tbody>\n",
       "    <tr>\n",
       "      <th>price</th>\n",
       "      <td>1.000000</td>\n",
       "      <td>-0.584693</td>\n",
       "      <td>-0.309446</td>\n",
       "    </tr>\n",
       "    <tr>\n",
       "      <th>journey_duration_hrs</th>\n",
       "      <td>-0.584693</td>\n",
       "      <td>1.000000</td>\n",
       "      <td>0.333906</td>\n",
       "    </tr>\n",
       "    <tr>\n",
       "      <th>booking_before_days</th>\n",
       "      <td>-0.309446</td>\n",
       "      <td>0.333906</td>\n",
       "      <td>1.000000</td>\n",
       "    </tr>\n",
       "  </tbody>\n",
       "</table>\n",
       "</div>"
      ],
      "text/plain": [
       "                         price  journey_duration_hrs  booking_before_days\n",
       "price                 1.000000             -0.584693            -0.309446\n",
       "journey_duration_hrs -0.584693              1.000000             0.333906\n",
       "booking_before_days  -0.309446              0.333906             1.000000"
      ]
     },
     "execution_count": 29,
     "metadata": {},
     "output_type": "execute_result"
    }
   ],
   "source": [
    "numerical_col = df.select_dtypes(include = [\"float64\", \"int64\"])\n",
    "numerical_col.corr()"
   ]
  },
  {
   "cell_type": "code",
   "execution_count": 30,
   "id": "aaaa95b7",
   "metadata": {
    "colab": {
     "base_uri": "https://localhost:8080/",
     "height": 447
    },
    "id": "aaaa95b7",
    "outputId": "bf999bad-518d-43bc-c062-bd8fdadd9f57"
   },
   "outputs": [
    {
     "data": {
      "image/png": "[encoded data removed]",
      "text/plain": [
       "<Figure size 500x300 with 2 Axes>"
      ]
     },
     "metadata": {},
     "output_type": "display_data"
    }
   ],
   "source": [
    "plt.figure(figsize=(5, 3))\n",
    "sns.heatmap(numerical_col.corr(), cmap=\"RdYlGn\", annot=True, fmt='.2f')\n",
    "plt.title(\"Correlation Matrix Heatmap\")\n",
    "plt.show()\n",
    "\n"
   ]
  },
  {
   "cell_type": "markdown",
   "id": "EF8Ec5Bh5yMi",
   "metadata": {
    "id": "EF8Ec5Bh5yMi"
   },
   "source": [
    "# **Insights and Conclusion:**\n",
    "\n",
    "- **Origin and Destination:**\n",
    "\n",
    "The dataset highlights key Spanish cities as train origins and destinations: Ponferrada, Madrid, Sevilla, Valencia, and Barcelona. From the bar graph insights, we observe that:\n",
    "\n",
    "- Madrid is the most popular destination, with nearly 50% of all trips ending there, confirming its status as a major hub for train travel.\n",
    "- Ponferrada, on the other hand, sees the least traffic, with only 1% of trips ending there, reflecting its smaller size and less frequent train connections compared to other cities.\n",
    "- This difference in the volume of passengers traveling to these destinations reflects the economic and tourist significance of cities like Madrid and Barcelona compared to smaller towns like Ponferrada.\n",
    "\n",
    "**Train Type:**\n",
    "\n",
    "Different types of train services cater to various routes, speeds, and comfort levels. The dataset includes types like MD-AVE (medium distance, high speed), ALVIA (high speed on both conventional and high-speed tracks), and AVE (high-speed service). According to the bar graph insights:\n",
    "\n",
    "- AVE is the most preferred train type, with almost 60% of people choosing this high-speed service, indicating a preference for faster travel between major cities.\n",
    "- LD-AVE is the least preferred, with only 0.17% of passengers opting for this service. This could be because it operates on longer routes and is less efficient for shorter, high-traffic routes.\n",
    "- This shows that travelers value high-speed and convenience, especially between major hubs like Madrid and Barcelona.\n",
    "\n",
    "**Train Class:**\n",
    "\n",
    "Train classes indicate different levels of comfort and amenities. The dataset includes classes like Turista, Preferente (first-class), and Cama Turista (sleeper class). The bar graph insights reveal that:\n",
    "\n",
    "- Turista class is the most popular, with nearly 75% of travelers opting for this economical and basic service, which is suitable for shorter distances and more budget-conscious travelers.\n",
    "- Cama Turista, on the other hand, is the least preferred, with only 0.01% opting for this overnight sleeper class. This aligns with the nature of most trips being shorter and not requiring overnight accommodations.\n",
    "- The choice of train class reflects the nature of the trip; most passengers opt for economical options for shorter journeys, while only a few choose first-class or sleeper options.\n",
    "\n",
    "**Fare:**\n",
    "\n",
    "Fare options in the dataset include Flexible (allowing changes), Promo + (discounts with some flexibility), and Mesa (group discounts). The bar graph insights show that:\n",
    "\n",
    "- Promo fares are by far the most popular, with 61% of passengers choosing discounted fares. This suggests that most passengers prioritize cost savings over flexibility.\n",
    "- Mesa fares, group fares for booking a table of seats, are the least preferred at only 0.04%. This reflects the individual nature of most bookings, as Mesa fares are better suited to group travel.\n",
    "- The popularity of promotional fares suggests that price sensitivity is a major factor for train travelers, which is reinforced by the correlation insights showing a negative relationship between price and both booking days in advance and journey duration.\n",
    "\n",
    "**Box Plot and KDE Plot Insights:**\n",
    "- Price: The price distribution shows a median around 50, with a few outliers beyond 200. This indicates that while most trips are relatively affordable, some journeys—likely those involving longer distances, first-class services, or last-minute bookings—can be significantly more expensive.\n",
    "\n",
    "- Journey Duration: The median journey duration is around 3 hours, which fits well with the routes between major cities like Madrid, Barcelona, and Valencia. The longer journeys (up to 12 hours) might be explained by routes involving smaller towns like Ponferrada.\n",
    "\n",
    "- Booking Lead Time: Most passengers book their tickets 30 to 50 days in advance, showing a preference for early booking, which likely correlates with cheaper, promotional fares.\n",
    "\n",
    "**Heatmap Insights:**\n",
    "\n",
    "- Price and Booking Lead Time: The negative correlation between price and booking lead time suggests that prices are lower when booked in advance, especially with Promo fares being the most popular. This is a common pricing strategy in the travel industry to encourage early bookings.\n",
    "- Price and Journey Duration: The negative correlation here indicates that longer journeys tend to have lower prices, possibly due to lower demand for certain routes or the availability of discounted fares.\n",
    "- Journey Duration and Booking Lead Time: The positive correlation between journey duration and booking lead time implies that longer journeys are often booked further in advance, potentially reflecting the need for more planning for longer trips.\n",
    "\n",
    "**Conclusions:**\n",
    "- Travel Preferences: The majority of passengers prefer traveling to and from major hubs like Madrid and Barcelona using high-speed AVE trains, with a strong preference for the economical Turista class and discounted Promo fares.\n",
    "- Pricing and Booking Trends: Price is a significant factor for most travelers, as demonstrated by the popularity of discounted fares and the negative correlation between price and both journey duration and booking lead time.Travelers tend to book early to secure lower prices.\n",
    "- Journey Duration: Most trips are relatively short (around 3 hours), and longer trips (up to 12 hours) are less common but planned well in advance. These longer journeys may explain some of the higher prices seen in the outliers.\n",
    "- Fare Strategy: The current fare strategy seems effective in incentivizing early bookings through discounts. Promo fares dominate, and passengers are willing to plan ahead to save on costs.\n",
    "- These insights can help in understanding passenger behavior, optimizing fare structures, and improving services to better meet traveler preferences across Spain’s rail network."
   ]
  },
  {
   "cell_type": "markdown",
   "id": "b6fad422",
   "metadata": {
    "id": "b6fad422"
   },
   "source": [
    "# machine learning"
   ]
  },
  {
   "cell_type": "code",
   "execution_count": 31,
   "id": "b74e2890",
   "metadata": {
    "colab": {
     "base_uri": "https://localhost:8080/",
     "height": 293
    },
    "id": "b74e2890",
    "outputId": "3da7f6cb-352e-482c-caab-525f9d58f7db"
   },
   "outputs": [
    {
     "data": {
      "text/html": [
       "<div>\n",
       "<style scoped>\n",
       "    .dataframe tbody tr th:only-of-type {\n",
       "        vertical-align: middle;\n",
       "    }\n",
       "\n",
       "    .dataframe tbody tr th {\n",
       "        vertical-align: top;\n",
       "    }\n",
       "\n",
       "    .dataframe thead th {\n",
       "        text-align: right;\n",
       "    }\n",
       "</style>\n",
       "<table border=\"1\" class=\"dataframe\">\n",
       "  <thead>\n",
       "    <tr style=\"text-align: right;\">\n",
       "      <th></th>\n",
       "      <th>insert_date</th>\n",
       "      <th>origin</th>\n",
       "      <th>destination</th>\n",
       "      <th>start_date</th>\n",
       "      <th>end_date</th>\n",
       "      <th>train_type</th>\n",
       "      <th>price</th>\n",
       "      <th>train_class</th>\n",
       "      <th>fare</th>\n",
       "      <th>journey_duration_hrs</th>\n",
       "      <th>booking_before_days</th>\n",
       "    </tr>\n",
       "  </thead>\n",
       "  <tbody>\n",
       "    <tr>\n",
       "      <th>0</th>\n",
       "      <td>2019-04-19 05:37:35</td>\n",
       "      <td>PONFERRADA</td>\n",
       "      <td>MADRID</td>\n",
       "      <td>2019-06-02 15:00:00</td>\n",
       "      <td>2019-06-02 19:42:00</td>\n",
       "      <td>MD-AVE</td>\n",
       "      <td>59.50</td>\n",
       "      <td>Turista con enlace</td>\n",
       "      <td>Flexible</td>\n",
       "      <td>4.70</td>\n",
       "      <td>44</td>\n",
       "    </tr>\n",
       "    <tr>\n",
       "      <th>1</th>\n",
       "      <td>2019-04-19 05:37:35</td>\n",
       "      <td>PONFERRADA</td>\n",
       "      <td>MADRID</td>\n",
       "      <td>2019-06-02 17:15:00</td>\n",
       "      <td>2019-06-02 23:03:00</td>\n",
       "      <td>MD-AVE</td>\n",
       "      <td>34.65</td>\n",
       "      <td>Turista con enlace</td>\n",
       "      <td>Promo +</td>\n",
       "      <td>5.80</td>\n",
       "      <td>44</td>\n",
       "    </tr>\n",
       "    <tr>\n",
       "      <th>2</th>\n",
       "      <td>2019-04-19 05:37:35</td>\n",
       "      <td>PONFERRADA</td>\n",
       "      <td>MADRID</td>\n",
       "      <td>2019-06-02 17:15:00</td>\n",
       "      <td>2019-06-02 23:10:00</td>\n",
       "      <td>MD-LD</td>\n",
       "      <td>39.95</td>\n",
       "      <td>Turista con enlace</td>\n",
       "      <td>Promo +</td>\n",
       "      <td>5.92</td>\n",
       "      <td>44</td>\n",
       "    </tr>\n",
       "    <tr>\n",
       "      <th>3</th>\n",
       "      <td>2019-04-19 05:37:35</td>\n",
       "      <td>PONFERRADA</td>\n",
       "      <td>MADRID</td>\n",
       "      <td>2019-06-02 17:15:00</td>\n",
       "      <td>2019-06-02 22:14:00</td>\n",
       "      <td>MD-AVE</td>\n",
       "      <td>40.60</td>\n",
       "      <td>Turista con enlace</td>\n",
       "      <td>Promo +</td>\n",
       "      <td>4.98</td>\n",
       "      <td>44</td>\n",
       "    </tr>\n",
       "    <tr>\n",
       "      <th>4</th>\n",
       "      <td>2019-04-19 05:37:35</td>\n",
       "      <td>PONFERRADA</td>\n",
       "      <td>MADRID</td>\n",
       "      <td>2019-06-02 18:55:00</td>\n",
       "      <td>2019-06-02 23:03:00</td>\n",
       "      <td>ALVIA</td>\n",
       "      <td>27.90</td>\n",
       "      <td>Turista</td>\n",
       "      <td>Promo</td>\n",
       "      <td>4.13</td>\n",
       "      <td>44</td>\n",
       "    </tr>\n",
       "  </tbody>\n",
       "</table>\n",
       "</div>"
      ],
      "text/plain": [
       "          insert_date      origin destination          start_date  \\\n",
       "0 2019-04-19 05:37:35  PONFERRADA      MADRID 2019-06-02 15:00:00   \n",
       "1 2019-04-19 05:37:35  PONFERRADA      MADRID 2019-06-02 17:15:00   \n",
       "2 2019-04-19 05:37:35  PONFERRADA      MADRID 2019-06-02 17:15:00   \n",
       "3 2019-04-19 05:37:35  PONFERRADA      MADRID 2019-06-02 17:15:00   \n",
       "4 2019-04-19 05:37:35  PONFERRADA      MADRID 2019-06-02 18:55:00   \n",
       "\n",
       "             end_date train_type  price         train_class      fare  \\\n",
       "0 2019-06-02 19:42:00     MD-AVE  59.50  Turista con enlace  Flexible   \n",
       "1 2019-06-02 23:03:00     MD-AVE  34.65  Turista con enlace   Promo +   \n",
       "2 2019-06-02 23:10:00      MD-LD  39.95  Turista con enlace   Promo +   \n",
       "3 2019-06-02 22:14:00     MD-AVE  40.60  Turista con enlace   Promo +   \n",
       "4 2019-06-02 23:03:00      ALVIA  27.90             Turista     Promo   \n",
       "\n",
       "   journey_duration_hrs  booking_before_days  \n",
       "0                  4.70                   44  \n",
       "1                  5.80                   44  \n",
       "2                  5.92                   44  \n",
       "3                  4.98                   44  \n",
       "4                  4.13                   44  "
      ]
     },
     "execution_count": 31,
     "metadata": {},
     "output_type": "execute_result"
    }
   ],
   "source": [
    "df.head()"
   ]
  },
  {
   "cell_type": "code",
   "execution_count": 32,
   "id": "145ffdf9",
   "metadata": {
    "id": "145ffdf9"
   },
   "outputs": [],
   "source": [
    "# removing the columns which are not required\n",
    "df.drop(columns = [\"insert_date\", \"start_date\", \"end_date\"], inplace = True)"
   ]
  },
  {
   "cell_type": "code",
   "execution_count": null,
   "id": "gdO1G2buqyt7",
   "metadata": {
    "id": "gdO1G2buqyt7"
   },
   "outputs": [],
   "source": [
    "# saving a copy of cleaned data for machine learning algorithms\n",
    "# df.to_csv(\"/content/drive/MyDrive/projects/Train_Price_Prediction/Train_dataset_for_ml.csv\")"
   ]
  },
  {
   "cell_type": "code",
   "execution_count": null,
   "id": "6cc7fb82",
   "metadata": {},
   "outputs": [],
   "source": [
    "# data = pd.read_csv(\"/content/drive/MyDrive/projects/Train_Price_Prediction/Train_dataset_for_ml.csv\")"
   ]
  },
  {
   "cell_type": "code",
   "execution_count": 35,
   "id": "Fqf_veCerbwI",
   "metadata": {
    "id": "Fqf_veCerbwI"
   },
   "outputs": [],
   "source": [
    "data = pd.read_csv(\"Train_dataset_for_ml.csv\")"
   ]
  },
  {
   "cell_type": "code",
   "execution_count": 36,
   "id": "7323b3fe",
   "metadata": {},
   "outputs": [],
   "source": [
    "df.to_csv(\"Train_dataset_for_ml.csv\")"
   ]
  },
  {
   "cell_type": "code",
   "execution_count": 37,
   "id": "Rb6D1iU-r1EN",
   "metadata": {
    "colab": {
     "base_uri": "https://localhost:8080/"
    },
    "id": "Rb6D1iU-r1EN",
    "outputId": "fefb09ad-d60c-4baa-b4f9-277e832e51f8"
   },
   "outputs": [
    {
     "name": "stdout",
     "output_type": "stream",
     "text": [
      "<class 'pandas.core.frame.DataFrame'>\n",
      "RangeIndex: 202321 entries, 0 to 202320\n",
      "Data columns (total 9 columns):\n",
      " #   Column                Non-Null Count   Dtype  \n",
      "---  ------                --------------   -----  \n",
      " 0   Unnamed: 0            202321 non-null  int64  \n",
      " 1   origin                202321 non-null  object \n",
      " 2   destination           202321 non-null  object \n",
      " 3   train_type            202321 non-null  object \n",
      " 4   price                 202321 non-null  float64\n",
      " 5   train_class           202321 non-null  object \n",
      " 6   fare                  202321 non-null  object \n",
      " 7   journey_duration_hrs  202321 non-null  float64\n",
      " 8   booking_before_days   202321 non-null  int64  \n",
      "dtypes: float64(2), int64(2), object(5)\n",
      "memory usage: 13.9+ MB\n"
     ]
    }
   ],
   "source": [
    "data.info()"
   ]
  },
  {
   "cell_type": "code",
   "execution_count": 38,
   "id": "78669988",
   "metadata": {
    "id": "78669988"
   },
   "outputs": [],
   "source": [
    "data.drop(columns = 'Unnamed: 0', inplace = True)"
   ]
  },
  {
   "cell_type": "code",
   "execution_count": 39,
   "id": "HBu3aKl2sDSM",
   "metadata": {
    "colab": {
     "base_uri": "https://localhost:8080/",
     "height": 206
    },
    "id": "HBu3aKl2sDSM",
    "outputId": "909e022a-395f-4fc0-b4b4-1a7869ab0d6d"
   },
   "outputs": [
    {
     "data": {
      "text/html": [
       "<div>\n",
       "<style scoped>\n",
       "    .dataframe tbody tr th:only-of-type {\n",
       "        vertical-align: middle;\n",
       "    }\n",
       "\n",
       "    .dataframe tbody tr th {\n",
       "        vertical-align: top;\n",
       "    }\n",
       "\n",
       "    .dataframe thead th {\n",
       "        text-align: right;\n",
       "    }\n",
       "</style>\n",
       "<table border=\"1\" class=\"dataframe\">\n",
       "  <thead>\n",
       "    <tr style=\"text-align: right;\">\n",
       "      <th></th>\n",
       "      <th>origin</th>\n",
       "      <th>destination</th>\n",
       "      <th>train_type</th>\n",
       "      <th>price</th>\n",
       "      <th>train_class</th>\n",
       "      <th>fare</th>\n",
       "      <th>journey_duration_hrs</th>\n",
       "      <th>booking_before_days</th>\n",
       "    </tr>\n",
       "  </thead>\n",
       "  <tbody>\n",
       "    <tr>\n",
       "      <th>0</th>\n",
       "      <td>PONFERRADA</td>\n",
       "      <td>MADRID</td>\n",
       "      <td>MD-AVE</td>\n",
       "      <td>59.50</td>\n",
       "      <td>Turista con enlace</td>\n",
       "      <td>Flexible</td>\n",
       "      <td>4.70</td>\n",
       "      <td>44</td>\n",
       "    </tr>\n",
       "    <tr>\n",
       "      <th>1</th>\n",
       "      <td>PONFERRADA</td>\n",
       "      <td>MADRID</td>\n",
       "      <td>MD-AVE</td>\n",
       "      <td>34.65</td>\n",
       "      <td>Turista con enlace</td>\n",
       "      <td>Promo +</td>\n",
       "      <td>5.80</td>\n",
       "      <td>44</td>\n",
       "    </tr>\n",
       "    <tr>\n",
       "      <th>2</th>\n",
       "      <td>PONFERRADA</td>\n",
       "      <td>MADRID</td>\n",
       "      <td>MD-LD</td>\n",
       "      <td>39.95</td>\n",
       "      <td>Turista con enlace</td>\n",
       "      <td>Promo +</td>\n",
       "      <td>5.92</td>\n",
       "      <td>44</td>\n",
       "    </tr>\n",
       "    <tr>\n",
       "      <th>3</th>\n",
       "      <td>PONFERRADA</td>\n",
       "      <td>MADRID</td>\n",
       "      <td>MD-AVE</td>\n",
       "      <td>40.60</td>\n",
       "      <td>Turista con enlace</td>\n",
       "      <td>Promo +</td>\n",
       "      <td>4.98</td>\n",
       "      <td>44</td>\n",
       "    </tr>\n",
       "    <tr>\n",
       "      <th>4</th>\n",
       "      <td>PONFERRADA</td>\n",
       "      <td>MADRID</td>\n",
       "      <td>ALVIA</td>\n",
       "      <td>27.90</td>\n",
       "      <td>Turista</td>\n",
       "      <td>Promo</td>\n",
       "      <td>4.13</td>\n",
       "      <td>44</td>\n",
       "    </tr>\n",
       "  </tbody>\n",
       "</table>\n",
       "</div>"
      ],
      "text/plain": [
       "       origin destination train_type  price         train_class      fare  \\\n",
       "0  PONFERRADA      MADRID     MD-AVE  59.50  Turista con enlace  Flexible   \n",
       "1  PONFERRADA      MADRID     MD-AVE  34.65  Turista con enlace   Promo +   \n",
       "2  PONFERRADA      MADRID      MD-LD  39.95  Turista con enlace   Promo +   \n",
       "3  PONFERRADA      MADRID     MD-AVE  40.60  Turista con enlace   Promo +   \n",
       "4  PONFERRADA      MADRID      ALVIA  27.90             Turista     Promo   \n",
       "\n",
       "   journey_duration_hrs  booking_before_days  \n",
       "0                  4.70                   44  \n",
       "1                  5.80                   44  \n",
       "2                  5.92                   44  \n",
       "3                  4.98                   44  \n",
       "4                  4.13                   44  "
      ]
     },
     "execution_count": 39,
     "metadata": {},
     "output_type": "execute_result"
    }
   ],
   "source": [
    "data.head()"
   ]
  },
  {
   "cell_type": "code",
   "execution_count": 40,
   "id": "9a52d7be",
   "metadata": {
    "id": "9a52d7be"
   },
   "outputs": [],
   "source": [
    "# Splitting the dataset into input features and output column\n",
    "col = data.columns\n",
    "\n",
    "x = data[[x for x in col if x !=\"price\"]]\n",
    "y = data[\"price\"]"
   ]
  },
  {
   "cell_type": "code",
   "execution_count": 41,
   "id": "657f7bac",
   "metadata": {
    "colab": {
     "base_uri": "https://localhost:8080/",
     "height": 206
    },
    "id": "657f7bac",
    "outputId": "8e0008e7-fe4a-49da-9e19-ead655d6d0f5"
   },
   "outputs": [
    {
     "data": {
      "text/html": [
       "<div>\n",
       "<style scoped>\n",
       "    .dataframe tbody tr th:only-of-type {\n",
       "        vertical-align: middle;\n",
       "    }\n",
       "\n",
       "    .dataframe tbody tr th {\n",
       "        vertical-align: top;\n",
       "    }\n",
       "\n",
       "    .dataframe thead th {\n",
       "        text-align: right;\n",
       "    }\n",
       "</style>\n",
       "<table border=\"1\" class=\"dataframe\">\n",
       "  <thead>\n",
       "    <tr style=\"text-align: right;\">\n",
       "      <th></th>\n",
       "      <th>origin</th>\n",
       "      <th>destination</th>\n",
       "      <th>train_type</th>\n",
       "      <th>train_class</th>\n",
       "      <th>fare</th>\n",
       "      <th>journey_duration_hrs</th>\n",
       "      <th>booking_before_days</th>\n",
       "    </tr>\n",
       "  </thead>\n",
       "  <tbody>\n",
       "    <tr>\n",
       "      <th>0</th>\n",
       "      <td>PONFERRADA</td>\n",
       "      <td>MADRID</td>\n",
       "      <td>MD-AVE</td>\n",
       "      <td>Turista con enlace</td>\n",
       "      <td>Flexible</td>\n",
       "      <td>4.70</td>\n",
       "      <td>44</td>\n",
       "    </tr>\n",
       "    <tr>\n",
       "      <th>1</th>\n",
       "      <td>PONFERRADA</td>\n",
       "      <td>MADRID</td>\n",
       "      <td>MD-AVE</td>\n",
       "      <td>Turista con enlace</td>\n",
       "      <td>Promo +</td>\n",
       "      <td>5.80</td>\n",
       "      <td>44</td>\n",
       "    </tr>\n",
       "    <tr>\n",
       "      <th>2</th>\n",
       "      <td>PONFERRADA</td>\n",
       "      <td>MADRID</td>\n",
       "      <td>MD-LD</td>\n",
       "      <td>Turista con enlace</td>\n",
       "      <td>Promo +</td>\n",
       "      <td>5.92</td>\n",
       "      <td>44</td>\n",
       "    </tr>\n",
       "    <tr>\n",
       "      <th>3</th>\n",
       "      <td>PONFERRADA</td>\n",
       "      <td>MADRID</td>\n",
       "      <td>MD-AVE</td>\n",
       "      <td>Turista con enlace</td>\n",
       "      <td>Promo +</td>\n",
       "      <td>4.98</td>\n",
       "      <td>44</td>\n",
       "    </tr>\n",
       "    <tr>\n",
       "      <th>4</th>\n",
       "      <td>PONFERRADA</td>\n",
       "      <td>MADRID</td>\n",
       "      <td>ALVIA</td>\n",
       "      <td>Turista</td>\n",
       "      <td>Promo</td>\n",
       "      <td>4.13</td>\n",
       "      <td>44</td>\n",
       "    </tr>\n",
       "  </tbody>\n",
       "</table>\n",
       "</div>"
      ],
      "text/plain": [
       "       origin destination train_type         train_class      fare  \\\n",
       "0  PONFERRADA      MADRID     MD-AVE  Turista con enlace  Flexible   \n",
       "1  PONFERRADA      MADRID     MD-AVE  Turista con enlace   Promo +   \n",
       "2  PONFERRADA      MADRID      MD-LD  Turista con enlace   Promo +   \n",
       "3  PONFERRADA      MADRID     MD-AVE  Turista con enlace   Promo +   \n",
       "4  PONFERRADA      MADRID      ALVIA             Turista     Promo   \n",
       "\n",
       "   journey_duration_hrs  booking_before_days  \n",
       "0                  4.70                   44  \n",
       "1                  5.80                   44  \n",
       "2                  5.92                   44  \n",
       "3                  4.98                   44  \n",
       "4                  4.13                   44  "
      ]
     },
     "execution_count": 41,
     "metadata": {},
     "output_type": "execute_result"
    }
   ],
   "source": [
    "x.head()"
   ]
  },
  {
   "cell_type": "code",
   "execution_count": 42,
   "id": "f2f0de11",
   "metadata": {
    "colab": {
     "base_uri": "https://localhost:8080/",
     "height": 241
    },
    "id": "f2f0de11",
    "outputId": "9737a3d8-8093-4f43-8d56-e0a898942bfb"
   },
   "outputs": [
    {
     "data": {
      "text/plain": [
       "0    59.50\n",
       "1    34.65\n",
       "2    39.95\n",
       "3    40.60\n",
       "4    27.90\n",
       "Name: price, dtype: float64"
      ]
     },
     "execution_count": 42,
     "metadata": {},
     "output_type": "execute_result"
    }
   ],
   "source": [
    "y.head()"
   ]
  },
  {
   "cell_type": "code",
   "execution_count": 43,
   "id": "3336b0b4",
   "metadata": {
    "id": "3336b0b4"
   },
   "outputs": [],
   "source": [
    "# splitting the data into training dataset, testing dataset and validation dataset\n",
    "from sklearn.model_selection import train_test_split\n",
    "x_train, x_test_val, y_train, y_test_val = train_test_split(x, y, test_size = 0.2, random_state = 42)\n",
    "x_val, x_test, y_val, y_test = train_test_split(x_test_val, y_test_val, test_size = 0.5, random_state = 30)"
   ]
  },
  {
   "cell_type": "code",
   "execution_count": 44,
   "id": "8Oec5fJPxHSD",
   "metadata": {
    "colab": {
     "base_uri": "https://localhost:8080/"
    },
    "id": "8Oec5fJPxHSD",
    "outputId": "9ff91ad9-c785-4ac2-a306-08f9f0f1b985"
   },
   "outputs": [
    {
     "data": {
      "text/plain": [
       "((161856, 7), (161856,), (20233, 7), (20233,))"
      ]
     },
     "execution_count": 44,
     "metadata": {},
     "output_type": "execute_result"
    }
   ],
   "source": [
    "x_train.shape , y_train.shape, x_test.shape, y_test.shape"
   ]
  },
  {
   "cell_type": "code",
   "execution_count": 45,
   "id": "DE8J-egEteou",
   "metadata": {
    "colab": {
     "base_uri": "https://localhost:8080/"
    },
    "id": "DE8J-egEteou",
    "outputId": "6199dc48-cb1b-429e-8791-28daf39fd1a0"
   },
   "outputs": [
    {
     "name": "stdout",
     "output_type": "stream",
     "text": [
      "['origin', 'destination', 'train_type', 'train_class', 'fare']\n",
      "['journey_duration_hrs', 'booking_before_days']\n"
     ]
    }
   ],
   "source": [
    "categorical_col  = list(x.select_dtypes(include = 'object').columns)\n",
    "numerical_col = list(x.select_dtypes(include = ['float64', 'int64']).columns)\n",
    "print(categorical_col)\n",
    "print(numerical_col)"
   ]
  },
  {
   "cell_type": "code",
   "execution_count": 46,
   "id": "XTSVTkF1sSVx",
   "metadata": {
    "id": "XTSVTkF1sSVx"
   },
   "outputs": [],
   "source": [
    "from sklearn.preprocessing import MinMaxScaler, OneHotEncoder\n",
    "from sklearn.compose import ColumnTransformer\n",
    "\n",
    "categorical_col  = list(x.select_dtypes(include = 'object').columns)\n",
    "numerical_col = list(x.select_dtypes(include = ['float64', 'int64']).columns)\n",
    "\n",
    "preprocessing = ColumnTransformer(\n",
    "    transformers= [\n",
    "        (\"mms\", MinMaxScaler(), numerical_col),\n",
    "        (\"ohe\", OneHotEncoder(sparse_output= False, handle_unknown=\"ignore\"), categorical_col)\n",
    "    ])\n",
    "x_train_preprocessed = preprocessing.fit_transform(x_train)\n",
    "x_test_preprocessed = preprocessing.transform(x_test)"
   ]
  },
  {
   "cell_type": "code",
   "execution_count": 47,
   "id": "3279b534",
   "metadata": {
    "colab": {
     "base_uri": "https://localhost:8080/"
    },
    "id": "3279b534",
    "outputId": "589aa203-6ad4-4bd8-8878-073e2250cea3"
   },
   "outputs": [
    {
     "data": {
      "text/plain": [
       "array([[0.12511585, 0.51351351, 0.        , ..., 0.        , 1.        ,\n",
       "        0.        ],\n",
       "       [0.14272475, 0.78378378, 0.        , ..., 0.        , 1.        ,\n",
       "        0.        ],\n",
       "       [0.08063021, 0.67567568, 0.        , ..., 0.        , 1.        ,\n",
       "        0.        ],\n",
       "       ...,\n",
       "       [0.11955514, 0.40540541, 0.        , ..., 0.        , 1.        ,\n",
       "        0.        ],\n",
       "       [0.43929564, 0.62162162, 0.        , ..., 0.        , 0.        ,\n",
       "        0.        ],\n",
       "       [0.10379981, 0.37837838, 0.        , ..., 0.        , 1.        ,\n",
       "        0.        ]])"
      ]
     },
     "execution_count": 47,
     "metadata": {},
     "output_type": "execute_result"
    }
   ],
   "source": [
    "x_train_preprocessed\n"
   ]
  },
  {
   "cell_type": "code",
   "execution_count": 48,
   "id": "1764d03a",
   "metadata": {
    "id": "1764d03a"
   },
   "outputs": [],
   "source": [
    "numerical_col_names = numerical_col\n",
    "categorical_col_names = preprocessing.named_transformers_['ohe'].get_feature_names_out(categorical_col)\n",
    "\n",
    "# Combine the column names\n",
    "all_col_names = list(numerical_col_names) + list(categorical_col_names)\n",
    "\n",
    "# Convert the NumPy array back into a DataFrame with appropriate column names\n",
    "x_train_preprocessed_df = pd.DataFrame(x_train_preprocessed, columns=all_col_names)\n",
    "x_test_preprocessed_df = pd.DataFrame(x_test_preprocessed, columns=all_col_names)\n"
   ]
  },
  {
   "cell_type": "code",
   "execution_count": 49,
   "id": "96a57f38",
   "metadata": {
    "colab": {
     "base_uri": "https://localhost:8080/",
     "height": 461
    },
    "id": "96a57f38",
    "outputId": "fd03d59d-6017-4f35-a792-987e24f14c7b"
   },
   "outputs": [
    {
     "data": {
      "text/html": [
       "<div>\n",
       "<style scoped>\n",
       "    .dataframe tbody tr th:only-of-type {\n",
       "        vertical-align: middle;\n",
       "    }\n",
       "\n",
       "    .dataframe tbody tr th {\n",
       "        vertical-align: top;\n",
       "    }\n",
       "\n",
       "    .dataframe thead th {\n",
       "        text-align: right;\n",
       "    }\n",
       "</style>\n",
       "<table border=\"1\" class=\"dataframe\">\n",
       "  <thead>\n",
       "    <tr style=\"text-align: right;\">\n",
       "      <th></th>\n",
       "      <th>journey_duration_hrs</th>\n",
       "      <th>booking_before_days</th>\n",
       "      <th>origin_BARCELONA</th>\n",
       "      <th>origin_MADRID</th>\n",
       "      <th>origin_PONFERRADA</th>\n",
       "      <th>origin_SEVILLA</th>\n",
       "      <th>origin_VALENCIA</th>\n",
       "      <th>destination_BARCELONA</th>\n",
       "      <th>destination_MADRID</th>\n",
       "      <th>destination_PONFERRADA</th>\n",
       "      <th>...</th>\n",
       "      <th>train_class_Cama Turista</th>\n",
       "      <th>train_class_Preferente</th>\n",
       "      <th>train_class_Turista</th>\n",
       "      <th>train_class_Turista Plus</th>\n",
       "      <th>train_class_Turista con enlace</th>\n",
       "      <th>fare_Adulto ida</th>\n",
       "      <th>fare_Flexible</th>\n",
       "      <th>fare_Mesa</th>\n",
       "      <th>fare_Promo</th>\n",
       "      <th>fare_Promo +</th>\n",
       "    </tr>\n",
       "  </thead>\n",
       "  <tbody>\n",
       "    <tr>\n",
       "      <th>0</th>\n",
       "      <td>0.125116</td>\n",
       "      <td>0.513514</td>\n",
       "      <td>0.0</td>\n",
       "      <td>1.0</td>\n",
       "      <td>0.0</td>\n",
       "      <td>0.0</td>\n",
       "      <td>0.0</td>\n",
       "      <td>1.0</td>\n",
       "      <td>0.0</td>\n",
       "      <td>0.0</td>\n",
       "      <td>...</td>\n",
       "      <td>0.0</td>\n",
       "      <td>0.0</td>\n",
       "      <td>0.0</td>\n",
       "      <td>1.0</td>\n",
       "      <td>0.0</td>\n",
       "      <td>0.0</td>\n",
       "      <td>0.0</td>\n",
       "      <td>0.0</td>\n",
       "      <td>1.0</td>\n",
       "      <td>0.0</td>\n",
       "    </tr>\n",
       "    <tr>\n",
       "      <th>1</th>\n",
       "      <td>0.142725</td>\n",
       "      <td>0.783784</td>\n",
       "      <td>0.0</td>\n",
       "      <td>1.0</td>\n",
       "      <td>0.0</td>\n",
       "      <td>0.0</td>\n",
       "      <td>0.0</td>\n",
       "      <td>1.0</td>\n",
       "      <td>0.0</td>\n",
       "      <td>0.0</td>\n",
       "      <td>...</td>\n",
       "      <td>0.0</td>\n",
       "      <td>0.0</td>\n",
       "      <td>1.0</td>\n",
       "      <td>0.0</td>\n",
       "      <td>0.0</td>\n",
       "      <td>0.0</td>\n",
       "      <td>0.0</td>\n",
       "      <td>0.0</td>\n",
       "      <td>1.0</td>\n",
       "      <td>0.0</td>\n",
       "    </tr>\n",
       "    <tr>\n",
       "      <th>2</th>\n",
       "      <td>0.080630</td>\n",
       "      <td>0.675676</td>\n",
       "      <td>0.0</td>\n",
       "      <td>0.0</td>\n",
       "      <td>0.0</td>\n",
       "      <td>1.0</td>\n",
       "      <td>0.0</td>\n",
       "      <td>0.0</td>\n",
       "      <td>1.0</td>\n",
       "      <td>0.0</td>\n",
       "      <td>...</td>\n",
       "      <td>0.0</td>\n",
       "      <td>0.0</td>\n",
       "      <td>1.0</td>\n",
       "      <td>0.0</td>\n",
       "      <td>0.0</td>\n",
       "      <td>0.0</td>\n",
       "      <td>0.0</td>\n",
       "      <td>0.0</td>\n",
       "      <td>1.0</td>\n",
       "      <td>0.0</td>\n",
       "    </tr>\n",
       "    <tr>\n",
       "      <th>3</th>\n",
       "      <td>0.539388</td>\n",
       "      <td>0.891892</td>\n",
       "      <td>0.0</td>\n",
       "      <td>0.0</td>\n",
       "      <td>0.0</td>\n",
       "      <td>0.0</td>\n",
       "      <td>1.0</td>\n",
       "      <td>0.0</td>\n",
       "      <td>1.0</td>\n",
       "      <td>0.0</td>\n",
       "      <td>...</td>\n",
       "      <td>0.0</td>\n",
       "      <td>0.0</td>\n",
       "      <td>1.0</td>\n",
       "      <td>0.0</td>\n",
       "      <td>0.0</td>\n",
       "      <td>1.0</td>\n",
       "      <td>0.0</td>\n",
       "      <td>0.0</td>\n",
       "      <td>0.0</td>\n",
       "      <td>0.0</td>\n",
       "    </tr>\n",
       "    <tr>\n",
       "      <th>4</th>\n",
       "      <td>0.471733</td>\n",
       "      <td>0.783784</td>\n",
       "      <td>0.0</td>\n",
       "      <td>1.0</td>\n",
       "      <td>0.0</td>\n",
       "      <td>0.0</td>\n",
       "      <td>0.0</td>\n",
       "      <td>0.0</td>\n",
       "      <td>0.0</td>\n",
       "      <td>0.0</td>\n",
       "      <td>...</td>\n",
       "      <td>0.0</td>\n",
       "      <td>0.0</td>\n",
       "      <td>1.0</td>\n",
       "      <td>0.0</td>\n",
       "      <td>0.0</td>\n",
       "      <td>1.0</td>\n",
       "      <td>0.0</td>\n",
       "      <td>0.0</td>\n",
       "      <td>0.0</td>\n",
       "      <td>0.0</td>\n",
       "    </tr>\n",
       "    <tr>\n",
       "      <th>...</th>\n",
       "      <td>...</td>\n",
       "      <td>...</td>\n",
       "      <td>...</td>\n",
       "      <td>...</td>\n",
       "      <td>...</td>\n",
       "      <td>...</td>\n",
       "      <td>...</td>\n",
       "      <td>...</td>\n",
       "      <td>...</td>\n",
       "      <td>...</td>\n",
       "      <td>...</td>\n",
       "      <td>...</td>\n",
       "      <td>...</td>\n",
       "      <td>...</td>\n",
       "      <td>...</td>\n",
       "      <td>...</td>\n",
       "      <td>...</td>\n",
       "      <td>...</td>\n",
       "      <td>...</td>\n",
       "      <td>...</td>\n",
       "      <td>...</td>\n",
       "    </tr>\n",
       "    <tr>\n",
       "      <th>161851</th>\n",
       "      <td>0.103800</td>\n",
       "      <td>0.756757</td>\n",
       "      <td>1.0</td>\n",
       "      <td>0.0</td>\n",
       "      <td>0.0</td>\n",
       "      <td>0.0</td>\n",
       "      <td>0.0</td>\n",
       "      <td>0.0</td>\n",
       "      <td>1.0</td>\n",
       "      <td>0.0</td>\n",
       "      <td>...</td>\n",
       "      <td>0.0</td>\n",
       "      <td>0.0</td>\n",
       "      <td>0.0</td>\n",
       "      <td>1.0</td>\n",
       "      <td>0.0</td>\n",
       "      <td>0.0</td>\n",
       "      <td>0.0</td>\n",
       "      <td>0.0</td>\n",
       "      <td>1.0</td>\n",
       "      <td>0.0</td>\n",
       "    </tr>\n",
       "    <tr>\n",
       "      <th>161852</th>\n",
       "      <td>0.142725</td>\n",
       "      <td>0.351351</td>\n",
       "      <td>1.0</td>\n",
       "      <td>0.0</td>\n",
       "      <td>0.0</td>\n",
       "      <td>0.0</td>\n",
       "      <td>0.0</td>\n",
       "      <td>0.0</td>\n",
       "      <td>1.0</td>\n",
       "      <td>0.0</td>\n",
       "      <td>...</td>\n",
       "      <td>0.0</td>\n",
       "      <td>0.0</td>\n",
       "      <td>1.0</td>\n",
       "      <td>0.0</td>\n",
       "      <td>0.0</td>\n",
       "      <td>0.0</td>\n",
       "      <td>0.0</td>\n",
       "      <td>0.0</td>\n",
       "      <td>1.0</td>\n",
       "      <td>0.0</td>\n",
       "    </tr>\n",
       "    <tr>\n",
       "      <th>161853</th>\n",
       "      <td>0.119555</td>\n",
       "      <td>0.405405</td>\n",
       "      <td>0.0</td>\n",
       "      <td>1.0</td>\n",
       "      <td>0.0</td>\n",
       "      <td>0.0</td>\n",
       "      <td>0.0</td>\n",
       "      <td>0.0</td>\n",
       "      <td>0.0</td>\n",
       "      <td>0.0</td>\n",
       "      <td>...</td>\n",
       "      <td>0.0</td>\n",
       "      <td>0.0</td>\n",
       "      <td>1.0</td>\n",
       "      <td>0.0</td>\n",
       "      <td>0.0</td>\n",
       "      <td>0.0</td>\n",
       "      <td>0.0</td>\n",
       "      <td>0.0</td>\n",
       "      <td>1.0</td>\n",
       "      <td>0.0</td>\n",
       "    </tr>\n",
       "    <tr>\n",
       "      <th>161854</th>\n",
       "      <td>0.439296</td>\n",
       "      <td>0.621622</td>\n",
       "      <td>0.0</td>\n",
       "      <td>1.0</td>\n",
       "      <td>0.0</td>\n",
       "      <td>0.0</td>\n",
       "      <td>0.0</td>\n",
       "      <td>0.0</td>\n",
       "      <td>0.0</td>\n",
       "      <td>0.0</td>\n",
       "      <td>...</td>\n",
       "      <td>0.0</td>\n",
       "      <td>0.0</td>\n",
       "      <td>1.0</td>\n",
       "      <td>0.0</td>\n",
       "      <td>0.0</td>\n",
       "      <td>1.0</td>\n",
       "      <td>0.0</td>\n",
       "      <td>0.0</td>\n",
       "      <td>0.0</td>\n",
       "      <td>0.0</td>\n",
       "    </tr>\n",
       "    <tr>\n",
       "      <th>161855</th>\n",
       "      <td>0.103800</td>\n",
       "      <td>0.378378</td>\n",
       "      <td>0.0</td>\n",
       "      <td>1.0</td>\n",
       "      <td>0.0</td>\n",
       "      <td>0.0</td>\n",
       "      <td>0.0</td>\n",
       "      <td>1.0</td>\n",
       "      <td>0.0</td>\n",
       "      <td>0.0</td>\n",
       "      <td>...</td>\n",
       "      <td>0.0</td>\n",
       "      <td>0.0</td>\n",
       "      <td>1.0</td>\n",
       "      <td>0.0</td>\n",
       "      <td>0.0</td>\n",
       "      <td>0.0</td>\n",
       "      <td>0.0</td>\n",
       "      <td>0.0</td>\n",
       "      <td>1.0</td>\n",
       "      <td>0.0</td>\n",
       "    </tr>\n",
       "  </tbody>\n",
       "</table>\n",
       "<p>161856 rows × 37 columns</p>\n",
       "</div>"
      ],
      "text/plain": [
       "        journey_duration_hrs  booking_before_days  origin_BARCELONA  \\\n",
       "0                   0.125116             0.513514               0.0   \n",
       "1                   0.142725             0.783784               0.0   \n",
       "2                   0.080630             0.675676               0.0   \n",
       "3                   0.539388             0.891892               0.0   \n",
       "4                   0.471733             0.783784               0.0   \n",
       "...                      ...                  ...               ...   \n",
       "161851              0.103800             0.756757               1.0   \n",
       "161852              0.142725             0.351351               1.0   \n",
       "161853              0.119555             0.405405               0.0   \n",
       "161854              0.439296             0.621622               0.0   \n",
       "161855              0.103800             0.378378               0.0   \n",
       "\n",
       "        origin_MADRID  origin_PONFERRADA  origin_SEVILLA  origin_VALENCIA  \\\n",
       "0                 1.0                0.0             0.0              0.0   \n",
       "1                 1.0                0.0             0.0              0.0   \n",
       "2                 0.0                0.0             1.0              0.0   \n",
       "3                 0.0                0.0             0.0              1.0   \n",
       "4                 1.0                0.0             0.0              0.0   \n",
       "...               ...                ...             ...              ...   \n",
       "161851            0.0                0.0             0.0              0.0   \n",
       "161852            0.0                0.0             0.0              0.0   \n",
       "161853            1.0                0.0             0.0              0.0   \n",
       "161854            1.0                0.0             0.0              0.0   \n",
       "161855            1.0                0.0             0.0              0.0   \n",
       "\n",
       "        destination_BARCELONA  destination_MADRID  destination_PONFERRADA  \\\n",
       "0                         1.0                 0.0                     0.0   \n",
       "1                         1.0                 0.0                     0.0   \n",
       "2                         0.0                 1.0                     0.0   \n",
       "3                         0.0                 1.0                     0.0   \n",
       "4                         0.0                 0.0                     0.0   \n",
       "...                       ...                 ...                     ...   \n",
       "161851                    0.0                 1.0                     0.0   \n",
       "161852                    0.0                 1.0                     0.0   \n",
       "161853                    0.0                 0.0                     0.0   \n",
       "161854                    0.0                 0.0                     0.0   \n",
       "161855                    1.0                 0.0                     0.0   \n",
       "\n",
       "        ...  train_class_Cama Turista  train_class_Preferente  \\\n",
       "0       ...                       0.0                     0.0   \n",
       "1       ...                       0.0                     0.0   \n",
       "2       ...                       0.0                     0.0   \n",
       "3       ...                       0.0                     0.0   \n",
       "4       ...                       0.0                     0.0   \n",
       "...     ...                       ...                     ...   \n",
       "161851  ...                       0.0                     0.0   \n",
       "161852  ...                       0.0                     0.0   \n",
       "161853  ...                       0.0                     0.0   \n",
       "161854  ...                       0.0                     0.0   \n",
       "161855  ...                       0.0                     0.0   \n",
       "\n",
       "        train_class_Turista  train_class_Turista Plus  \\\n",
       "0                       0.0                       1.0   \n",
       "1                       1.0                       0.0   \n",
       "2                       1.0                       0.0   \n",
       "3                       1.0                       0.0   \n",
       "4                       1.0                       0.0   \n",
       "...                     ...                       ...   \n",
       "161851                  0.0                       1.0   \n",
       "161852                  1.0                       0.0   \n",
       "161853                  1.0                       0.0   \n",
       "161854                  1.0                       0.0   \n",
       "161855                  1.0                       0.0   \n",
       "\n",
       "        train_class_Turista con enlace  fare_Adulto ida  fare_Flexible  \\\n",
       "0                                  0.0              0.0            0.0   \n",
       "1                                  0.0              0.0            0.0   \n",
       "2                                  0.0              0.0            0.0   \n",
       "3                                  0.0              1.0            0.0   \n",
       "4                                  0.0              1.0            0.0   \n",
       "...                                ...              ...            ...   \n",
       "161851                             0.0              0.0            0.0   \n",
       "161852                             0.0              0.0            0.0   \n",
       "161853                             0.0              0.0            0.0   \n",
       "161854                             0.0              1.0            0.0   \n",
       "161855                             0.0              0.0            0.0   \n",
       "\n",
       "        fare_Mesa  fare_Promo  fare_Promo +  \n",
       "0             0.0         1.0           0.0  \n",
       "1             0.0         1.0           0.0  \n",
       "2             0.0         1.0           0.0  \n",
       "3             0.0         0.0           0.0  \n",
       "4             0.0         0.0           0.0  \n",
       "...           ...         ...           ...  \n",
       "161851        0.0         1.0           0.0  \n",
       "161852        0.0         1.0           0.0  \n",
       "161853        0.0         1.0           0.0  \n",
       "161854        0.0         0.0           0.0  \n",
       "161855        0.0         1.0           0.0  \n",
       "\n",
       "[161856 rows x 37 columns]"
      ]
     },
     "execution_count": 49,
     "metadata": {},
     "output_type": "execute_result"
    }
   ],
   "source": [
    "x_train_preprocessed_df"
   ]
  },
  {
   "cell_type": "code",
   "execution_count": 50,
   "id": "mo3GajsdvhpW",
   "metadata": {
    "id": "mo3GajsdvhpW"
   },
   "outputs": [],
   "source": [
    "from sklearn.metrics import mean_squared_error, r2_score, mean_absolute_error\n",
    "def performance_metrics(y_actual, y_predict):\n",
    "  r2 = r2_score(y_actual, y_predict)\n",
    "  mse = mean_squared_error(y_actual, y_predict)\n",
    "  rmse = mse**0.5\n",
    "  mae = mean_absolute_error(y_actual, y_predict)\n",
    "\n",
    "  print(\"R2 score of the model is:\", r2)\n",
    "  print(\"Mean Sqaured error of the model is:\", mse)\n",
    "  print(\"Root mean squared error of the model is:\", rmse)\n",
    "  print(\"Mean Absolute error of the model is:\", mae)\n"
   ]
  },
  {
   "cell_type": "code",
   "execution_count": 51,
   "id": "kyYTnw5Lu0Tu",
   "metadata": {
    "colab": {
     "base_uri": "https://localhost:8080/"
    },
    "id": "kyYTnw5Lu0Tu",
    "outputId": "17a63292-573a-4f70-a478-3ae1c5d4fa5d"
   },
   "outputs": [
    {
     "name": "stdout",
     "output_type": "stream",
     "text": [
      "R2 score of the model is: 0.9199799776562941\n",
      "Mean Sqaured error of the model is: 52.60619869523106\n",
      "Root mean squared error of the model is: 7.253013077006759\n",
      "Mean Absolute error of the model is: 4.078114294809075\n",
      "None\n"
     ]
    }
   ],
   "source": [
    "# building a random forest model\n",
    "from sklearn.ensemble import RandomForestRegressor\n",
    "\n",
    "\n",
    "rfr = RandomForestRegressor(random_state = 42)\n",
    "\n",
    "rfr.fit(x_train_preprocessed, y_train)\n",
    "\n",
    "y_predict = rfr.predict(x_test_preprocessed)\n",
    "\n",
    "print(performance_metrics(y_test, y_predict))\n"
   ]
  },
  {
   "cell_type": "code",
   "execution_count": null,
   "id": "8w2fWPTcyCiH",
   "metadata": {
    "colab": {
     "base_uri": "https://localhost:8080/"
    },
    "id": "8w2fWPTcyCiH",
    "outputId": "276139e1-5b59-4e8c-c972-8a2c0ca63c5e"
   },
   "outputs": [
    {
     "name": "stdout",
     "output_type": "stream",
     "text": [
      "Best values of parameters are: {'n_estimators': 100, 'min_samples_split': 2, 'max_depth': 15}\n",
      "R2 score of the model is: 0.9184071672505333\n",
      "Mean Sqaured error of the model is: 53.64018461890398\n",
      "Root mean squared error of the model is: 7.32394597323765\n",
      "Mean Absolute error of the model is: 4.167003299326002\n",
      "None\n"
     ]
    }
   ],
   "source": [
    "# hyperparameter tuning of the model\n",
    "from sklearn.model_selection import RandomizedSearchCV\n",
    "\n",
    "parameters = {\n",
    "    'n_estimators' : [10, 50, 100],\n",
    "    'max_depth' : [5, 10, 15],\n",
    "    'min_samples_split' : [2, 5, 10]\n",
    "}\n",
    "\n",
    "rfr = RandomForestRegressor(random_state = 20)\n",
    "\n",
    "random_search = RandomizedSearchCV(\n",
    "    estimator= rfr,\n",
    "    param_distributions= parameters,\n",
    "    n_iter = 15,\n",
    "    random_state = 25,\n",
    "    n_jobs= -1\n",
    ")\n",
    "\n",
    "random_search.fit(x_train_preprocessed, y_train)\n",
    "best_parameters = random_search.best_params_\n",
    "print(\"Best values of parameters are:\", best_parameters)\n",
    "\n",
    "y_predict = random_search.best_estimator_.predict(x_test_preprocessed)\n",
    "\n",
    "print(performance_metrics(y_test, y_predict))"
   ]
  },
  {
   "cell_type": "code",
   "execution_count": null,
   "id": "-fZ6blgQ2isy",
   "metadata": {
    "colab": {
     "base_uri": "https://localhost:8080/"
    },
    "id": "-fZ6blgQ2isy",
    "outputId": "8e877e44-046e-4061-b44d-fdfff6b68666"
   },
   "outputs": [
    {
     "name": "stdout",
     "output_type": "stream",
     "text": [
      "R2 score of the model is: 0.9174911476668883\n",
      "Mean Sqaured error of the model is: 54.24238775275177\n",
      "Root mean squared error of the model is: 7.364943160184725\n",
      "Mean Absolute error of the model is: 4.319248484698851\n"
     ]
    }
   ],
   "source": [
    "from xgboost import XGBRegressor\n",
    "\n",
    "xgb = XGBRegressor(random_state = 42)\n",
    "\n",
    "xgb.fit(x_train_preprocessed, y_train)\n",
    "\n",
    "y_predict = xgb.predict(x_test_preprocessed)\n",
    "\n",
    "performance_metrics(y_test, y_predict)"
   ]
  },
  {
   "cell_type": "markdown",
   "id": "DYszQQ3Q4GPB",
   "metadata": {
    "id": "DYszQQ3Q4GPB"
   },
   "source": [
    "As RandomForestRegressor is giving very good accuracy so i am finalizing this model as my final machine learning model.\n",
    "\n",
    "Building a pipeline of this model."
   ]
  },
  {
   "cell_type": "code",
   "execution_count": 52,
   "id": "TMv75tMo3P99",
   "metadata": {
    "colab": {
     "base_uri": "https://localhost:8080/"
    },
    "id": "TMv75tMo3P99",
    "outputId": "e313c225-00e5-463d-b6dd-b727d6e3afe9"
   },
   "outputs": [
    {
     "name": "stdout",
     "output_type": "stream",
     "text": [
      "R2 score of the model is: 0.9199799776562941\n",
      "Mean Squared Error of the model is: 52.60619869523106\n",
      "Root Mean Squared Error of the model is: 7.253013077006759\n",
      "Mean Absolute Error of the model is: 4.078114294809075\n"
     ]
    }
   ],
   "source": [
    "# building a pipeline\n",
    "\n",
    "from sklearn.pipeline import Pipeline\n",
    "\n",
    "def performance_metrics(y_actual, y_predict):\n",
    "    r2 = r2_score(y_actual, y_predict)\n",
    "    mse = mean_squared_error(y_actual, y_predict)\n",
    "    rmse = mse ** 0.5\n",
    "    mae = mean_absolute_error(y_actual, y_predict)\n",
    "\n",
    "    print(\"R2 score of the model is:\", r2)\n",
    "    print(\"Mean Squared Error of the model is:\", mse)\n",
    "    print(\"Root Mean Squared Error of the model is:\", rmse)\n",
    "    print(\"Mean Absolute Error of the model is:\", mae)\n",
    "\n",
    "# Identify categorical and numerical columns\n",
    "categorical_col = list(x.select_dtypes(include='object').columns)\n",
    "numerical_col = list(x.select_dtypes(include=['float64', 'int64']).columns)\n",
    "\n",
    "preprocessing = ColumnTransformer(\n",
    "    transformers=[\n",
    "        ('mms', MinMaxScaler(), numerical_col),\n",
    "        ('ohe', OneHotEncoder(sparse_output = False, handle_unknown = 'ignore'), categorical_col)\n",
    "    ]\n",
    ")\n",
    "\n",
    "pipeline = Pipeline(steps = [\n",
    "    (\"preprocessing\", preprocessing),\n",
    "    (\"model\", RandomForestRegressor(random_state = 42))\n",
    "])\n",
    "\n",
    "pipeline.fit(x_train, y_train)\n",
    "\n",
    "y_predict = pipeline.predict(x_test)\n",
    "\n",
    "performance_metrics(y_test, y_predict)"
   ]
  },
  {
   "cell_type": "code",
   "execution_count": 53,
   "id": "c41362e9",
   "metadata": {
    "colab": {
     "base_uri": "https://localhost:8080/"
    },
    "id": "c41362e9",
    "outputId": "b02ff1b2-100e-4630-c958-bae188a35092"
   },
   "outputs": [
    {
     "name": "stdout",
     "output_type": "stream",
     "text": [
      "R2 score of the model is: 0.920874805290139\n",
      "Mean Squared Error of the model is: 51.45560548485126\n",
      "Root Mean Squared Error of the model is: 7.173256267891958\n",
      "Mean Absolute Error of the model is: 4.031900554593188\n"
     ]
    }
   ],
   "source": [
    "# final prediction on validation set\n",
    "\n",
    "y_val_predict = pipeline.predict(x_val)\n",
    "\n",
    "performance_metrics(y_val, y_val_predict)"
   ]
  },
  {
   "cell_type": "code",
   "execution_count": null,
   "id": "589c4e4b",
   "metadata": {
    "colab": {
     "base_uri": "https://localhost:8080/"
    },
    "id": "589c4e4b",
    "outputId": "d613db98-3346-4cce-950a-0eb8fa726ef1"
   },
   "outputs": [
    {
     "data": {
      "text/plain": [
       "['/content/drive/MyDrive/projects/Train_Price_Prediction/trained_pipeline.pkl']"
      ]
     },
     "execution_count": 78,
     "metadata": {},
     "output_type": "execute_result"
    }
   ],
   "source": [
    "# Saving this pipeline for future use\n",
    "# import joblib\n",
    "\n",
    "# Save the trained pipeline to a file\n",
    "# joblib.dump(pipeline, '/content/drive/MyDrive/projects/Train_Price_Prediction/trained_pipeline.pkl')\n"
   ]
  },
  {
   "cell_type": "code",
   "execution_count": 54,
   "id": "67813b4a",
   "metadata": {},
   "outputs": [
    {
     "data": {
      "text/plain": [
       "['trained_pipeline.pkl']"
      ]
     },
     "execution_count": 54,
     "metadata": {},
     "output_type": "execute_result"
    }
   ],
   "source": [
    "# Saving this pipeline for future use\n",
    "import joblib\n",
    "\n",
    "# Save the trained pipeline to a file\n",
    "joblib.dump(pipeline, 'trained_pipeline.pkl')\n"
   ]
  },
  {
   "cell_type": "code",
   "execution_count": 55,
   "id": "PDy5Ybz_7wix",
   "metadata": {
    "colab": {
     "base_uri": "https://localhost:8080/",
     "height": 89
    },
    "id": "PDy5Ybz_7wix",
    "outputId": "7c309989-9e9f-43f8-eae3-a9e81d1ed971"
   },
   "outputs": [
    {
     "data": {
      "text/html": [
       "<div>\n",
       "<style scoped>\n",
       "    .dataframe tbody tr th:only-of-type {\n",
       "        vertical-align: middle;\n",
       "    }\n",
       "\n",
       "    .dataframe tbody tr th {\n",
       "        vertical-align: top;\n",
       "    }\n",
       "\n",
       "    .dataframe thead th {\n",
       "        text-align: right;\n",
       "    }\n",
       "</style>\n",
       "<table border=\"1\" class=\"dataframe\">\n",
       "  <thead>\n",
       "    <tr style=\"text-align: right;\">\n",
       "      <th></th>\n",
       "      <th>origin</th>\n",
       "      <th>destination</th>\n",
       "      <th>train_type</th>\n",
       "      <th>train_class</th>\n",
       "      <th>fare</th>\n",
       "      <th>journey_duration_hrs</th>\n",
       "      <th>booking_before_days</th>\n",
       "    </tr>\n",
       "  </thead>\n",
       "  <tbody>\n",
       "    <tr>\n",
       "      <th>23480</th>\n",
       "      <td>MADRID</td>\n",
       "      <td>BARCELONA</td>\n",
       "      <td>AVE-TGV</td>\n",
       "      <td>Turista Plus</td>\n",
       "      <td>Promo</td>\n",
       "      <td>2.98</td>\n",
       "      <td>41</td>\n",
       "    </tr>\n",
       "  </tbody>\n",
       "</table>\n",
       "</div>"
      ],
      "text/plain": [
       "       origin destination train_type   train_class   fare  \\\n",
       "23480  MADRID   BARCELONA    AVE-TGV  Turista Plus  Promo   \n",
       "\n",
       "       journey_duration_hrs  booking_before_days  \n",
       "23480                  2.98                   41  "
      ]
     },
     "execution_count": 55,
     "metadata": {},
     "output_type": "execute_result"
    }
   ],
   "source": [
    "new_journey = x_train.head(1)\n",
    "new_journey"
   ]
  },
  {
   "cell_type": "code",
   "execution_count": 56,
   "id": "4MuysNPS74rX",
   "metadata": {
    "colab": {
     "base_uri": "https://localhost:8080/",
     "height": 115
    },
    "id": "4MuysNPS74rX",
    "outputId": "7ea392a6-04fd-4b7c-e1a3-76a9f4398633"
   },
   "outputs": [
    {
     "data": {
      "text/plain": [
       "23480    90.5\n",
       "Name: price, dtype: float64"
      ]
     },
     "execution_count": 56,
     "metadata": {},
     "output_type": "execute_result"
    }
   ],
   "source": [
    "new_journey_price = y_train.head(1)\n",
    "new_journey_price"
   ]
  },
  {
   "cell_type": "code",
   "execution_count": null,
   "id": "a9de0c98",
   "metadata": {},
   "outputs": [],
   "source": [
    "# # Load the pipeline from the file\n",
    "# loaded_pipeline = joblib.load('/content/drive/MyDrive/projects/Train_Price_Prediction/trained_pipeline.pkl')\n",
    "\n",
    "# # Use the loaded pipeline to make predictions\n",
    "# new_predictions = loaded_pipeline.predict(new_journey)\n",
    "\n",
    "# print(new_predictions)"
   ]
  },
  {
   "cell_type": "code",
   "execution_count": 58,
   "id": "dd559887",
   "metadata": {
    "colab": {
     "base_uri": "https://localhost:8080/"
    },
    "id": "dd559887",
    "outputId": "848056bc-00e2-4fea-d62c-b71326cf9c7b"
   },
   "outputs": [
    {
     "name": "stdout",
     "output_type": "stream",
     "text": [
      "[90.5]\n"
     ]
    }
   ],
   "source": [
    "# Load the pipeline from the file\n",
    "loaded_pipeline = joblib.load('trained_pipeline.pkl')\n",
    "\n",
    "# Use the loaded pipeline to make predictions\n",
    "new_predictions = loaded_pipeline.predict(new_journey)\n",
    "\n",
    "print(new_predictions)\n"
   ]
  },
  {
   "cell_type": "markdown",
   "id": "-VSdRHCJ8N5f",
   "metadata": {
    "id": "-VSdRHCJ8N5f"
   },
   "source": [
    "The Predicted value is exactly same as the actual value hence i have made a successful machine learning project here."
   ]
  },
  {
   "cell_type": "code",
   "execution_count": 9,
   "id": "KTowVJbo9tC4",
   "metadata": {
    "id": "KTowVJbo9tC4"
   },
   "outputs": [],
   "source": [
    "import pandas as pd\n",
    "import numpy as np\n",
    "import matplotlib.pyplot as plt\n",
    "import seaborn as sns\n",
    "import datetime\n",
    "\n",
    "from sklearn.model_selection import train_test_split\n",
    "\n",
    "\n",
    "from sklearn.preprocessing import MinMaxScaler, OneHotEncoder\n",
    "from sklearn.compose import ColumnTransformer\n",
    "from sklearn.ensemble import RandomForestRegressor\n",
    "from sklearn.metrics import mean_squared_error, r2_score\n",
    "from sklearn.pipeline import Pipeline\n",
    "import joblib\n",
    "from flask import Flask, request, jsonify"
   ]
  },
  {
   "cell_type": "code",
   "execution_count": 5,
   "id": "Q8b9EsfC9yVm",
   "metadata": {
    "colab": {
     "base_uri": "https://localhost:8080/"
    },
    "id": "Q8b9EsfC9yVm",
    "outputId": "fbfb6c34-151e-4682-c5cc-3c5c82d66635"
   },
   "outputs": [
    {
     "name": "stdout",
     "output_type": "stream",
     "text": [
      "Mounted at /content/drive\n"
     ]
    }
   ],
   "source": [
    "from google.colab import drive\n",
    "drive.mount('/content/drive')"
   ]
  },
  {
   "cell_type": "code",
   "execution_count": 6,
   "id": "1strUKOT9e_U",
   "metadata": {
    "id": "1strUKOT9e_U"
   },
   "outputs": [],
   "source": [
    "loaded_pipeline = joblib.load('/content/drive/MyDrive/projects/Train_Price_Prediction/trained_pipeline.pkl')"
   ]
  },
  {
   "cell_type": "code",
   "execution_count": 7,
   "id": "XqatbWbe-PzO",
   "metadata": {
    "colab": {
     "base_uri": "https://localhost:8080/"
    },
    "id": "XqatbWbe-PzO",
    "outputId": "a5995605-1227-4f48-c3ab-7bf2b4689b1b"
   },
   "outputs": [
    {
     "name": "stdout",
     "output_type": "stream",
     "text": [
      "Collecting pyngrok\n",
      "  Downloading pyngrok-7.2.0-py3-none-any.whl.metadata (7.4 kB)\n",
      "Requirement already satisfied: PyYAML>=5.1 in /usr/local/lib/python3.10/dist-packages (from pyngrok) (6.0.2)\n",
      "Downloading pyngrok-7.2.0-py3-none-any.whl (22 kB)\n",
      "Installing collected packages: pyngrok\n",
      "Successfully installed pyngrok-7.2.0\n"
     ]
    }
   ],
   "source": [
    "!pip install pyngrok\n"
   ]
  },
  {
   "cell_type": "code",
   "execution_count": 8,
   "id": "psoUcIK--RkP",
   "metadata": {
    "colab": {
     "base_uri": "https://localhost:8080/"
    },
    "id": "psoUcIK--RkP",
    "outputId": "c4c79413-c206-4b6d-a6fc-4dfd0c5e7b5e"
   },
   "outputs": [
    {
     "name": "stdout",
     "output_type": "stream",
     "text": []
    }
   ],
   "source": [
    "from pyngrok import ngrok\n",
    "\n",
    "# Replace the placeholder with your actual ngrok authtoken\n",
    "ngrok.set_auth_token(\"2liC0ZWGxbeFnwnJrCdtQKcYatv_63NKHoKw2c94pVxsJiLZe\")\n"
   ]
  },
  {
   "cell_type": "code",
   "execution_count": 16,
   "id": "Z2RQzJCm-wu8",
   "metadata": {
    "colab": {
     "base_uri": "https://localhost:8080/"
    },
    "id": "Z2RQzJCm-wu8",
    "outputId": "8843a275-4585-40cc-c198-6e309e1e4937"
   },
   "outputs": [
    {
     "name": "stdout",
     "output_type": "stream",
     "text": [
      "Authtoken saved to configuration file: /root/.config/ngrok/ngrok.yml\n"
     ]
    }
   ],
   "source": [
    "!ngrok authtoken \"2liC0ZWGxbeFnwnJrCdtQKcYatv_63NKHoKw2c94pVxsJiLZe\"\n"
   ]
  },
  {
   "cell_type": "code",
   "execution_count": 17,
   "id": "OH54uZaw_jj1",
   "metadata": {
    "colab": {
     "base_uri": "https://localhost:8080/"
    },
    "id": "OH54uZaw_jj1",
    "outputId": "9dcd2000-16c8-4c01-b6f3-470875a66ddf"
   },
   "outputs": [
    {
     "name": "stdout",
     "output_type": "stream",
     "text": [
      "Traceback (most recent call last):\n",
      "  File \"/usr/lib/python3.10/subprocess.py\", line 1209, in wait\n",
      "    return self._wait(timeout=timeout)\n",
      "  File \"/usr/lib/python3.10/subprocess.py\", line 1959, in _wait\n",
      "    (pid, sts) = self._try_wait(0)\n",
      "  File \"/usr/lib/python3.10/subprocess.py\", line 1917, in _try_wait\n",
      "    (pid, sts) = os.waitpid(self.pid, wait_flags)\n",
      "KeyboardInterrupt\n",
      "\n",
      "During handling of the above exception, another exception occurred:\n",
      "\n",
      "Traceback (most recent call last):\n",
      "  File \"/usr/local/bin/ngrok\", line 8, in <module>\n",
      "    sys.exit(main())\n",
      "  File \"/usr/local/lib/python3.10/dist-packages/pyngrok/ngrok.py\", line 582, in main\n",
      "    run(sys.argv[1:])\n",
      "  File \"/usr/local/lib/python3.10/dist-packages/pyngrok/ngrok.py\", line 570, in run\n",
      "    process.run_process(pyngrok_config.ngrok_path, args)\n",
      "  File \"/usr/local/lib/python3.10/dist-packages/pyngrok/process.py\", line 276, in run_process\n",
      "    subprocess.call(start)\n",
      "  File \"/usr/lib/python3.10/subprocess.py\", line 347, in call\n",
      "    return p.wait(timeout=timeout)\n",
      "  File \"/usr/lib/python3.10/subprocess.py\", line 1222, in wait\n",
      "    self._wait(timeout=sigint_timeout)\n",
      "  File \"/usr/lib/python3.10/subprocess.py\", line 1953, in _wait\n",
      "    time.sleep(delay)\n",
      "KeyboardInterrupt\n",
      "^C\n"
     ]
    }
   ],
   "source": [
    "!ngrok http 5000\n"
   ]
  },
  {
   "cell_type": "code",
   "execution_count": 1,
   "id": "INORhoug8KOd",
   "metadata": {
    "colab": {
     "base_uri": "https://localhost:8080/"
    },
    "id": "INORhoug8KOd",
    "outputId": "cd2c0372-0ddf-4cc2-f773-2a7cc9549d7a"
   },
   "outputs": [
    {
     "name": "stdout",
     "output_type": "stream",
     "text": [
      "Requirement already satisfied: flask in /usr/local/lib/python3.10/dist-packages (2.2.5)\n",
      "Requirement already satisfied: pyngrok in /usr/local/lib/python3.10/dist-packages (7.2.0)\n",
      "Requirement already satisfied: Werkzeug>=2.2.2 in /usr/local/lib/python3.10/dist-packages (from flask) (3.0.4)\n",
      "Requirement already satisfied: Jinja2>=3.0 in /usr/local/lib/python3.10/dist-packages (from flask) (3.1.4)\n",
      "Requirement already satisfied: itsdangerous>=2.0 in /usr/local/lib/python3.10/dist-packages (from flask) (2.2.0)\n",
      "Requirement already satisfied: click>=8.0 in /usr/local/lib/python3.10/dist-packages (from flask) (8.1.7)\n",
      "Requirement already satisfied: PyYAML>=5.1 in /usr/local/lib/python3.10/dist-packages (from pyngrok) (6.0.2)\n",
      "Requirement already satisfied: MarkupSafe>=2.0 in /usr/local/lib/python3.10/dist-packages (from Jinja2>=3.0->flask) (2.1.5)\n",
      "ngrok tunnel \"NgrokTunnel: \"https://756d-34-106-187-131.ngrok-free.app\" -> \"http://localhost:5000\"\" -> \"http://localhost:5000\"\n",
      " * Serving Flask app '__main__'\n",
      " * Debug mode: off\n"
     ]
    },
    {
     "name": "stderr",
     "output_type": "stream",
     "text": [
      "INFO:werkzeug:\u001b[31m\u001b[1mWARNING: This is a development server. Do not use it in a production deployment. Use a production WSGI server instead.\u001b[0m\n",
      " * Running on http://127.0.0.1:5000\n",
      "INFO:werkzeug:\u001b[33mPress CTRL+C to quit\u001b[0m\n"
     ]
    },
    {
     "name": "stdout",
     "output_type": "stream",
     "text": [
      "\u001b[31mERROR: Operation cancelled by user\u001b[0m\u001b[31m\n",
      "\u001b[0mngrok tunnel \"NgrokTunnel: \"https://315c-34-106-187-131.ngrok-free.app\" -> \"http://localhost:5000\"\" -> \"http://localhost:5000\"\n",
      " * Serving Flask app '__main__'\n",
      " * Debug mode: off\n"
     ]
    },
    {
     "name": "stderr",
     "output_type": "stream",
     "text": [
      "INFO:werkzeug:\u001b[31m\u001b[1mWARNING: This is a development server. Do not use it in a production deployment. Use a production WSGI server instead.\u001b[0m\n",
      " * Running on http://127.0.0.1:5000\n",
      "INFO:werkzeug:\u001b[33mPress CTRL+C to quit\u001b[0m\n"
     ]
    }
   ],
   "source": [
    "!pip install flask pyngrok\n",
    "\n",
    "from flask import Flask, request, jsonify\n",
    "import joblib\n",
    "import pandas as pd\n",
    "from pyngrok import ngrok\n",
    "\n",
    "# Load the trained pipeline\n",
    "pipeline = joblib.load('/content/drive/MyDrive/projects/Train_Price_Prediction/trained_pipeline.pkl')\n",
    "\n",
    "app = Flask(__name__)\n",
    "\n",
    "# Set up ngrok tunnel\n",
    "public_url = ngrok.connect(5000)\n",
    "print(f\"ngrok tunnel \\\"{public_url}\\\" -> \\\"http://localhost:5000\\\"\")\n",
    "\n",
    "@app.route('/', methods=['GET', 'POST'])\n",
    "def home():\n",
    "    return \"\"\"\n",
    "    <!DOCTYPE html>\n",
    "    <html>\n",
    "    <head>\n",
    "        <title>Train Fare Prediction</title>\n",
    "        <style>\n",
    "            /* CSS styling omitted for brevity */\n",
    "        </style>\n",
    "    </head>\n",
    "    <body>\n",
    "        <div class=\"container\">\n",
    "            <h1>Train Fare Prediction</h1>\n",
    "            <form action=\"/predict\" method=\"POST\">\n",
    "                <label for=\"origin\">Origin:</label>\n",
    "                <input type=\"text\" name=\"origin\" placeholder=\"Enter origin\" required>\n",
    "\n",
    "                <label for=\"destination\">Destination:</label>\n",
    "                <input type=\"text\" name=\"destination\" placeholder=\"Enter destination\" required>\n",
    "\n",
    "                <label for=\"train_type\">Train Type:</label>\n",
    "                <input type=\"text\" name=\"train_type\" placeholder=\"Enter train type\" required>\n",
    "\n",
    "                <label for=\"train_class\">Train Class:</label>\n",
    "                <input type=\"text\" name=\"train_class\" placeholder=\"Enter train class\" required>\n",
    "\n",
    "                <label for=\"journey_duration_hrs\">Journey Duration (hrs):</label>\n",
    "                <input type=\"number\" step=\"0.1\" name=\"journey_duration_hrs\" placeholder=\"Enter journey duration\" required>\n",
    "\n",
    "                <label for=\"booking_before_days\">Booking Before Days:</label>\n",
    "                <input type=\"number\" name=\"booking_before_days\" placeholder=\"Enter days before booking\" required>\n",
    "\n",
    "                <input type=\"submit\" value=\"Predict\">\n",
    "            </form>\n",
    "            <p id=\"prediction\"></p>\n",
    "        </div>\n",
    "    </body>\n",
    "    </html>\n",
    "    \"\"\"\n",
    "\n",
    "@app.route('/predict', methods=['POST'])\n",
    "def predict():\n",
    "    if request.method == 'POST':\n",
    "        # Collect the form data\n",
    "        origin = request.form.get('origin')\n",
    "        destination = request.form.get('destination')\n",
    "        train_type = request.form.get('train_type')\n",
    "        train_class = request.form.get('train_class')\n",
    "        journey_duration_hrs = float(request.form.get('journey_duration_hrs'))\n",
    "        booking_before_days = int(request.form.get('booking_before_days'))\n",
    "\n",
    "        # Create a dictionary for the input\n",
    "        data = {\n",
    "            'origin': origin,\n",
    "            'destination': destination,\n",
    "            'train_type': train_type,\n",
    "            'train_class': train_class,\n",
    "            'journey_duration_hrs': journey_duration_hrs,\n",
    "            'booking_before_days': booking_before_days\n",
    "        }\n",
    "\n",
    "        # Convert the dictionary to a DataFrame as the pipeline expects a DataFrame\n",
    "        input_df = pd.DataFrame([data])\n",
    "\n",
    "        # Use the loaded pipeline to predict the fare\n",
    "        predicted_fare = pipeline.predict(input_df)[0]\n",
    "\n",
    "        # Return the prediction as a JSON response\n",
    "        return jsonify({'predicted_fare': f\"${round(predicted_fare, 2)}\"})\n",
    "\n",
    "if __name__ == \"__main__\":\n",
    "    app.run(port=5000)\n",
    "!pip install flask pyngrok\n",
    "\n",
    "from flask import Flask, request, jsonify\n",
    "import joblib\n",
    "import pandas as pd\n",
    "from pyngrok import ngrok\n",
    "\n",
    "# Load the trained pipeline\n",
    "pipeline = joblib.load('/content/drive/MyDrive/projects/Train_Price_Prediction/trained_pipeline.pkl')\n",
    "\n",
    "app = Flask(__name__)\n",
    "\n",
    "# Set up ngrok tunnel\n",
    "public_url = ngrok.connect(5000)\n",
    "print(f\"ngrok tunnel \\\"{public_url}\\\" -> \\\"http://localhost:5000\\\"\")\n",
    "\n",
    "@app.route('/', methods=['GET', 'POST'])\n",
    "def home():\n",
    "    return \"\"\"\n",
    "    <!DOCTYPE html>\n",
    "    <html>\n",
    "    <head>\n",
    "        <title>Train Fare Prediction</title>\n",
    "        <style>\n",
    "            /* CSS styling omitted for brevity */\n",
    "        </style>\n",
    "    </head>\n",
    "    <body>\n",
    "        <div class=\"container\">\n",
    "            <h1>Train Fare Prediction</h1>\n",
    "            <form action=\"/predict\" method=\"POST\">\n",
    "                <label for=\"origin\">Origin:</label>\n",
    "                <input type=\"text\" name=\"origin\" placeholder=\"Enter origin\" required>\n",
    "\n",
    "                <label for=\"destination\">Destination:</label>\n",
    "                <input type=\"text\" name=\"destination\" placeholder=\"Enter destination\" required>\n",
    "\n",
    "                <label for=\"train_type\">Train Type:</label>\n",
    "                <input type=\"text\" name=\"train_type\" placeholder=\"Enter train type\" required>\n",
    "\n",
    "                <label for=\"train_class\">Train Class:</label>\n",
    "                <input type=\"text\" name=\"train_class\" placeholder=\"Enter train class\" required>\n",
    "\n",
    "                <label for=\"journey_duration_hrs\">Journey Duration (hrs):</label>\n",
    "                <input type=\"number\" step=\"0.1\" name=\"journey_duration_hrs\" placeholder=\"Enter journey duration\" required>\n",
    "\n",
    "                <label for=\"booking_before_days\">Booking Before Days:</label>\n",
    "                <input type=\"number\" name=\"booking_before_days\" placeholder=\"Enter days before booking\" required>\n",
    "\n",
    "                <input type=\"submit\" value=\"Predict\">\n",
    "            </form>\n",
    "            <p id=\"prediction\"></p>\n",
    "        </div>\n",
    "    </body>\n",
    "    </html>\n",
    "    \"\"\"\n",
    "\n",
    "@app.route('/predict', methods=['POST'])\n",
    "def predict():\n",
    "    if request.method == 'POST':\n",
    "        # Collect the form data\n",
    "        origin = request.form.get('origin')\n",
    "        destination = request.form.get('destination')\n",
    "        train_type = request.form.get('train_type')\n",
    "        train_class = request.form.get('train_class')\n",
    "        journey_duration_hrs = float(request.form.get('journey_duration_hrs'))\n",
    "        booking_before_days = int(request.form.get('booking_before_days'))\n",
    "\n",
    "        # Create a dictionary for the input\n",
    "        data = {\n",
    "            'origin': origin,\n",
    "            'destination': destination,\n",
    "            'train_type': train_type,\n",
    "            'train_class': train_class,\n",
    "            'journey_duration_hrs': journey_duration_hrs,\n",
    "            'booking_before_days': booking_before_days\n",
    "        }\n",
    "\n",
    "        # Convert the dictionary to a DataFrame as the pipeline expects a DataFrame\n",
    "        input_df = pd.DataFrame([data])\n",
    "\n",
    "        # Use the loaded pipeline to predict the fare\n",
    "        predicted_fare = pipeline.predict(input_df)[0]\n",
    "\n",
    "        # Return the prediction as a JSON response\n",
    "        return jsonify({'predicted_fare': f\"${round(predicted_fare, 2)}\"})\n",
    "\n",
    "if __name__ == \"__main__\":\n",
    "    app.run(port=5000)\n"
   ]
  }
 ],
 "metadata": {
  "colab": {
   "provenance": []
  },
  "kernelspec": {
   "display_name": "Python 3 (ipykernel)",
   "language": "python",
   "name": "python3"
  },
  "language_info": {
   "codemirror_mode": {
    "name": "ipython",
    "version": 3
   },
   "file_extension": ".py",
   "mimetype": "text/x-python",
   "name": "python",
   "nbconvert_exporter": "python",
   "pygments_lexer": "ipython3",
   "version": "3.11.5"
  }
 },
 "nbformat": 4,
 "nbformat_minor": 5
}
